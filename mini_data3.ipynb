{
 "cells": [
  {
   "cell_type": "code",
   "execution_count": 122,
   "metadata": {},
   "outputs": [],
   "source": [
    "import pandas as pd\n",
    "import numpy as np\n",
    "import matplotlib.pyplot as plt\n",
    "import seaborn as sns\n",
    "from sklearn import preprocessing"
   ]
  },
  {
   "cell_type": "code",
   "execution_count": 123,
   "metadata": {
    "scrolled": false
   },
   "outputs": [
    {
     "data": {
      "text/html": [
       "<div>\n",
       "<style scoped>\n",
       "    .dataframe tbody tr th:only-of-type {\n",
       "        vertical-align: middle;\n",
       "    }\n",
       "\n",
       "    .dataframe tbody tr th {\n",
       "        vertical-align: top;\n",
       "    }\n",
       "\n",
       "    .dataframe thead th {\n",
       "        text-align: right;\n",
       "    }\n",
       "</style>\n",
       "<table border=\"1\" class=\"dataframe\">\n",
       "  <thead>\n",
       "    <tr style=\"text-align: right;\">\n",
       "      <th></th>\n",
       "      <th>Product ID</th>\n",
       "      <th>Product characteristic 1</th>\n",
       "      <th>Quality Characteristic 8</th>\n",
       "      <th>Quality Characteristic 1</th>\n",
       "      <th>Quality Characteristic 2</th>\n",
       "      <th>Quality Characteristic 3</th>\n",
       "      <th>Quality Characteristic 4</th>\n",
       "      <th>Quality Characteristic 5</th>\n",
       "      <th>Quality Characteristic 6</th>\n",
       "      <th>Process Characteristic 1</th>\n",
       "      <th>Process Characteristic 2</th>\n",
       "      <th>Rework characteristic 1</th>\n",
       "      <th>Rework characteristic 2</th>\n",
       "      <th>Repair characteristic 1</th>\n",
       "      <th>Rework Minutes</th>\n",
       "      <th>Quality rating</th>\n",
       "      <th>Capture Date</th>\n",
       "      <th>Rework Date</th>\n",
       "      <th>Quality Characteristic 7</th>\n",
       "    </tr>\n",
       "  </thead>\n",
       "  <tbody>\n",
       "    <tr>\n",
       "      <th>0</th>\n",
       "      <td>26.0</td>\n",
       "      <td>1</td>\n",
       "      <td>A</td>\n",
       "      <td>412</td>\n",
       "      <td>653</td>\n",
       "      <td>248</td>\n",
       "      <td>172</td>\n",
       "      <td>s</td>\n",
       "      <td>a</td>\n",
       "      <td>APU3b</td>\n",
       "      <td>1</td>\n",
       "      <td>I</td>\n",
       "      <td>c</td>\n",
       "      <td>m</td>\n",
       "      <td>0.0</td>\n",
       "      <td>1</td>\n",
       "      <td>01.10.18 06:34:54</td>\n",
       "      <td>01.10.18 06:35:24</td>\n",
       "      <td>0</td>\n",
       "    </tr>\n",
       "    <tr>\n",
       "      <th>1</th>\n",
       "      <td>50.0</td>\n",
       "      <td>2</td>\n",
       "      <td>A</td>\n",
       "      <td>408</td>\n",
       "      <td>793</td>\n",
       "      <td>221</td>\n",
       "      <td>147</td>\n",
       "      <td>s</td>\n",
       "      <td>b</td>\n",
       "      <td>APU3b</td>\n",
       "      <td>1</td>\n",
       "      <td>I</td>\n",
       "      <td>b</td>\n",
       "      <td>d</td>\n",
       "      <td>285.0</td>\n",
       "      <td>1</td>\n",
       "      <td>01.10.18 07:23:12</td>\n",
       "      <td>01.10.18 08:13:42</td>\n",
       "      <td>0</td>\n",
       "    </tr>\n",
       "    <tr>\n",
       "      <th>2</th>\n",
       "      <td>72.0</td>\n",
       "      <td>1</td>\n",
       "      <td>A</td>\n",
       "      <td>407</td>\n",
       "      <td>608</td>\n",
       "      <td>210</td>\n",
       "      <td>117</td>\n",
       "      <td>s</td>\n",
       "      <td>a</td>\n",
       "      <td>APU3b</td>\n",
       "      <td>4</td>\n",
       "      <td>O</td>\n",
       "      <td>a</td>\n",
       "      <td>b</td>\n",
       "      <td>0.0</td>\n",
       "      <td>1</td>\n",
       "      <td>01.10.18 15:39:57</td>\n",
       "      <td>01.10.18 16:50:40</td>\n",
       "      <td>0</td>\n",
       "    </tr>\n",
       "    <tr>\n",
       "      <th>3</th>\n",
       "      <td>72.0</td>\n",
       "      <td>1</td>\n",
       "      <td>A</td>\n",
       "      <td>407</td>\n",
       "      <td>608</td>\n",
       "      <td>248</td>\n",
       "      <td>142</td>\n",
       "      <td>s</td>\n",
       "      <td>a</td>\n",
       "      <td>APU3b</td>\n",
       "      <td>2</td>\n",
       "      <td>I</td>\n",
       "      <td>c</td>\n",
       "      <td>g</td>\n",
       "      <td>0.5</td>\n",
       "      <td>1</td>\n",
       "      <td>01.10.18 07:25:09</td>\n",
       "      <td>01.10.18 07:32:53</td>\n",
       "      <td>0</td>\n",
       "    </tr>\n",
       "    <tr>\n",
       "      <th>4</th>\n",
       "      <td>74.0</td>\n",
       "      <td>2</td>\n",
       "      <td>A</td>\n",
       "      <td>408</td>\n",
       "      <td>508</td>\n",
       "      <td>205</td>\n",
       "      <td>176</td>\n",
       "      <td>s</td>\n",
       "      <td>b</td>\n",
       "      <td>APU3b</td>\n",
       "      <td>3</td>\n",
       "      <td>I</td>\n",
       "      <td>b</td>\n",
       "      <td>d</td>\n",
       "      <td>25.0</td>\n",
       "      <td>1</td>\n",
       "      <td>01.10.18 07:51:32</td>\n",
       "      <td>01.10.18 09:41:50</td>\n",
       "      <td>0</td>\n",
       "    </tr>\n",
       "    <tr>\n",
       "      <th>...</th>\n",
       "      <td>...</td>\n",
       "      <td>...</td>\n",
       "      <td>...</td>\n",
       "      <td>...</td>\n",
       "      <td>...</td>\n",
       "      <td>...</td>\n",
       "      <td>...</td>\n",
       "      <td>...</td>\n",
       "      <td>...</td>\n",
       "      <td>...</td>\n",
       "      <td>...</td>\n",
       "      <td>...</td>\n",
       "      <td>...</td>\n",
       "      <td>...</td>\n",
       "      <td>...</td>\n",
       "      <td>...</td>\n",
       "      <td>...</td>\n",
       "      <td>...</td>\n",
       "      <td>...</td>\n",
       "    </tr>\n",
       "    <tr>\n",
       "      <th>18908</th>\n",
       "      <td>NaN</td>\n",
       "      <td>1</td>\n",
       "      <td>A</td>\n",
       "      <td>407</td>\n",
       "      <td>628</td>\n",
       "      <td>210</td>\n",
       "      <td>122</td>\n",
       "      <td>s</td>\n",
       "      <td>b</td>\n",
       "      <td>APU3b</td>\n",
       "      <td>1</td>\n",
       "      <td>I</td>\n",
       "      <td>a</td>\n",
       "      <td>m</td>\n",
       "      <td>0.0</td>\n",
       "      <td>1</td>\n",
       "      <td>31.01.19 22:15:06</td>\n",
       "      <td>31.01.19 22:15:06</td>\n",
       "      <td>0</td>\n",
       "    </tr>\n",
       "    <tr>\n",
       "      <th>18909</th>\n",
       "      <td>NaN</td>\n",
       "      <td>1</td>\n",
       "      <td>A</td>\n",
       "      <td>407</td>\n",
       "      <td>655</td>\n",
       "      <td>229</td>\n",
       "      <td>172</td>\n",
       "      <td>s</td>\n",
       "      <td>b</td>\n",
       "      <td>APU3b</td>\n",
       "      <td>1</td>\n",
       "      <td>I</td>\n",
       "      <td>a</td>\n",
       "      <td>m</td>\n",
       "      <td>0.0</td>\n",
       "      <td>1</td>\n",
       "      <td>31.01.19 22:16:17</td>\n",
       "      <td>31.01.19 22:22:51</td>\n",
       "      <td>0</td>\n",
       "    </tr>\n",
       "    <tr>\n",
       "      <th>18910</th>\n",
       "      <td>NaN</td>\n",
       "      <td>2</td>\n",
       "      <td>A</td>\n",
       "      <td>407</td>\n",
       "      <td>657</td>\n",
       "      <td>266</td>\n",
       "      <td>122</td>\n",
       "      <td>s</td>\n",
       "      <td>b</td>\n",
       "      <td>APU3b</td>\n",
       "      <td>1</td>\n",
       "      <td>I</td>\n",
       "      <td>a</td>\n",
       "      <td>b</td>\n",
       "      <td>0.0</td>\n",
       "      <td>1</td>\n",
       "      <td>31.01.19 22:27:37</td>\n",
       "      <td>31.01.19 22:36:22</td>\n",
       "      <td>0</td>\n",
       "    </tr>\n",
       "    <tr>\n",
       "      <th>18911</th>\n",
       "      <td>NaN</td>\n",
       "      <td>1</td>\n",
       "      <td>A</td>\n",
       "      <td>407</td>\n",
       "      <td>655</td>\n",
       "      <td>229</td>\n",
       "      <td>172</td>\n",
       "      <td>s</td>\n",
       "      <td>b</td>\n",
       "      <td>APU3b</td>\n",
       "      <td>1</td>\n",
       "      <td>I</td>\n",
       "      <td>a</td>\n",
       "      <td>m</td>\n",
       "      <td>0.0</td>\n",
       "      <td>1</td>\n",
       "      <td>31.01.19 22:43:50</td>\n",
       "      <td>31.01.19 22:50:55</td>\n",
       "      <td>0</td>\n",
       "    </tr>\n",
       "    <tr>\n",
       "      <th>18912</th>\n",
       "      <td>NaN</td>\n",
       "      <td>1</td>\n",
       "      <td>A</td>\n",
       "      <td>407</td>\n",
       "      <td>662</td>\n",
       "      <td>210</td>\n",
       "      <td>169</td>\n",
       "      <td>s</td>\n",
       "      <td>b</td>\n",
       "      <td>APU3b</td>\n",
       "      <td>2</td>\n",
       "      <td>I</td>\n",
       "      <td>a</td>\n",
       "      <td>g</td>\n",
       "      <td>0.0</td>\n",
       "      <td>1</td>\n",
       "      <td>31.01.19 23:05:20</td>\n",
       "      <td>31.01.19 23:19:26</td>\n",
       "      <td>0</td>\n",
       "    </tr>\n",
       "  </tbody>\n",
       "</table>\n",
       "<p>18913 rows × 19 columns</p>\n",
       "</div>"
      ],
      "text/plain": [
       "       Product ID  Product characteristic 1 Quality Characteristic 8  \\\n",
       "0            26.0                         1                        A   \n",
       "1            50.0                         2                        A   \n",
       "2            72.0                         1                        A   \n",
       "3            72.0                         1                        A   \n",
       "4            74.0                         2                        A   \n",
       "...           ...                       ...                      ...   \n",
       "18908         NaN                         1                        A   \n",
       "18909         NaN                         1                        A   \n",
       "18910         NaN                         2                        A   \n",
       "18911         NaN                         1                        A   \n",
       "18912         NaN                         1                        A   \n",
       "\n",
       "       Quality Characteristic 1  Quality Characteristic 2  \\\n",
       "0                           412                       653   \n",
       "1                           408                       793   \n",
       "2                           407                       608   \n",
       "3                           407                       608   \n",
       "4                           408                       508   \n",
       "...                         ...                       ...   \n",
       "18908                       407                       628   \n",
       "18909                       407                       655   \n",
       "18910                       407                       657   \n",
       "18911                       407                       655   \n",
       "18912                       407                       662   \n",
       "\n",
       "       Quality Characteristic 3  Quality Characteristic 4  \\\n",
       "0                           248                       172   \n",
       "1                           221                       147   \n",
       "2                           210                       117   \n",
       "3                           248                       142   \n",
       "4                           205                       176   \n",
       "...                         ...                       ...   \n",
       "18908                       210                       122   \n",
       "18909                       229                       172   \n",
       "18910                       266                       122   \n",
       "18911                       229                       172   \n",
       "18912                       210                       169   \n",
       "\n",
       "      Quality Characteristic 5 Quality Characteristic 6  \\\n",
       "0                            s                        a   \n",
       "1                            s                        b   \n",
       "2                            s                        a   \n",
       "3                            s                        a   \n",
       "4                            s                        b   \n",
       "...                        ...                      ...   \n",
       "18908                        s                        b   \n",
       "18909                        s                        b   \n",
       "18910                        s                        b   \n",
       "18911                        s                        b   \n",
       "18912                        s                        b   \n",
       "\n",
       "      Process Characteristic 1   Process Characteristic 2   \\\n",
       "0                         APU3b                          1   \n",
       "1                         APU3b                          1   \n",
       "2                         APU3b                          4   \n",
       "3                         APU3b                          2   \n",
       "4                         APU3b                          3   \n",
       "...                         ...                        ...   \n",
       "18908                     APU3b                          1   \n",
       "18909                     APU3b                          1   \n",
       "18910                     APU3b                          1   \n",
       "18911                     APU3b                          1   \n",
       "18912                     APU3b                          2   \n",
       "\n",
       "      Rework characteristic 1 Rework characteristic 2 Repair characteristic 1  \\\n",
       "0                           I                       c                       m   \n",
       "1                           I                       b                       d   \n",
       "2                           O                       a                       b   \n",
       "3                           I                       c                       g   \n",
       "4                           I                       b                       d   \n",
       "...                       ...                     ...                     ...   \n",
       "18908                       I                       a                       m   \n",
       "18909                       I                       a                       m   \n",
       "18910                       I                       a                       b   \n",
       "18911                       I                       a                       m   \n",
       "18912                       I                       a                       g   \n",
       "\n",
       "       Rework Minutes  Quality rating       Capture Date        Rework Date  \\\n",
       "0                 0.0               1  01.10.18 06:34:54  01.10.18 06:35:24   \n",
       "1               285.0               1  01.10.18 07:23:12  01.10.18 08:13:42   \n",
       "2                 0.0               1  01.10.18 15:39:57  01.10.18 16:50:40   \n",
       "3                 0.5               1  01.10.18 07:25:09  01.10.18 07:32:53   \n",
       "4                25.0               1  01.10.18 07:51:32  01.10.18 09:41:50   \n",
       "...               ...             ...                ...                ...   \n",
       "18908             0.0               1  31.01.19 22:15:06  31.01.19 22:15:06   \n",
       "18909             0.0               1  31.01.19 22:16:17  31.01.19 22:22:51   \n",
       "18910             0.0               1  31.01.19 22:27:37  31.01.19 22:36:22   \n",
       "18911             0.0               1  31.01.19 22:43:50  31.01.19 22:50:55   \n",
       "18912             0.0               1  31.01.19 23:05:20  31.01.19 23:19:26   \n",
       "\n",
       "       Quality Characteristic 7  \n",
       "0                             0  \n",
       "1                             0  \n",
       "2                             0  \n",
       "3                             0  \n",
       "4                             0  \n",
       "...                         ...  \n",
       "18908                         0  \n",
       "18909                         0  \n",
       "18910                         0  \n",
       "18911                         0  \n",
       "18912                         0  \n",
       "\n",
       "[18913 rows x 19 columns]"
      ]
     },
     "execution_count": 123,
     "metadata": {},
     "output_type": "execute_result"
    }
   ],
   "source": [
    "A = 'Quality_data.csv'\n",
    "\n",
    "quality_data = pd.read_csv(A)\n",
    "quality_data"
   ]
  },
  {
   "cell_type": "code",
   "execution_count": 124,
   "metadata": {},
   "outputs": [
    {
     "data": {
      "text/plain": [
       "72.0"
      ]
     },
     "execution_count": 124,
     "metadata": {},
     "output_type": "execute_result"
    }
   ],
   "source": [
    "quality_data.iloc[2, 0]"
   ]
  },
  {
   "cell_type": "code",
   "execution_count": 125,
   "metadata": {},
   "outputs": [],
   "source": [
    "new_quality = quality_data\n",
    "\n",
    "for i in range(len(quality_data)-1, -1 , -1):\n",
    "    if np.array(quality_data.iloc[i, 13]) == 'b' or (np.array(quality_data.iloc[i,0]) > 0) == False:\n",
    "        new_quality = new_quality.drop(new_quality.index[i])"
   ]
  },
  {
   "cell_type": "code",
   "execution_count": null,
   "metadata": {},
   "outputs": [],
   "source": []
  },
  {
   "cell_type": "code",
   "execution_count": 126,
   "metadata": {},
   "outputs": [
    {
     "data": {
      "text/html": [
       "<div>\n",
       "<style scoped>\n",
       "    .dataframe tbody tr th:only-of-type {\n",
       "        vertical-align: middle;\n",
       "    }\n",
       "\n",
       "    .dataframe tbody tr th {\n",
       "        vertical-align: top;\n",
       "    }\n",
       "\n",
       "    .dataframe thead th {\n",
       "        text-align: right;\n",
       "    }\n",
       "</style>\n",
       "<table border=\"1\" class=\"dataframe\">\n",
       "  <thead>\n",
       "    <tr style=\"text-align: right;\">\n",
       "      <th></th>\n",
       "      <th>Product ID</th>\n",
       "      <th>Product characteristic 1</th>\n",
       "      <th>Quality Characteristic 8</th>\n",
       "      <th>Quality Characteristic 1</th>\n",
       "      <th>Quality Characteristic 2</th>\n",
       "      <th>Quality Characteristic 3</th>\n",
       "      <th>Quality Characteristic 4</th>\n",
       "      <th>Quality Characteristic 5</th>\n",
       "      <th>Quality Characteristic 6</th>\n",
       "      <th>Process Characteristic 1</th>\n",
       "      <th>Process Characteristic 2</th>\n",
       "      <th>Rework characteristic 1</th>\n",
       "      <th>Rework characteristic 2</th>\n",
       "      <th>Repair characteristic 1</th>\n",
       "      <th>Rework Minutes</th>\n",
       "      <th>Quality rating</th>\n",
       "      <th>Capture Date</th>\n",
       "      <th>Rework Date</th>\n",
       "      <th>Quality Characteristic 7</th>\n",
       "    </tr>\n",
       "  </thead>\n",
       "  <tbody>\n",
       "    <tr>\n",
       "      <th>0</th>\n",
       "      <td>26.0</td>\n",
       "      <td>1</td>\n",
       "      <td>A</td>\n",
       "      <td>412</td>\n",
       "      <td>653</td>\n",
       "      <td>248</td>\n",
       "      <td>172</td>\n",
       "      <td>s</td>\n",
       "      <td>a</td>\n",
       "      <td>APU3b</td>\n",
       "      <td>1</td>\n",
       "      <td>I</td>\n",
       "      <td>c</td>\n",
       "      <td>m</td>\n",
       "      <td>0.0</td>\n",
       "      <td>1</td>\n",
       "      <td>01.10.18 06:34:54</td>\n",
       "      <td>01.10.18 06:35:24</td>\n",
       "      <td>0</td>\n",
       "    </tr>\n",
       "    <tr>\n",
       "      <th>1</th>\n",
       "      <td>50.0</td>\n",
       "      <td>2</td>\n",
       "      <td>A</td>\n",
       "      <td>408</td>\n",
       "      <td>793</td>\n",
       "      <td>221</td>\n",
       "      <td>147</td>\n",
       "      <td>s</td>\n",
       "      <td>b</td>\n",
       "      <td>APU3b</td>\n",
       "      <td>1</td>\n",
       "      <td>I</td>\n",
       "      <td>b</td>\n",
       "      <td>d</td>\n",
       "      <td>285.0</td>\n",
       "      <td>1</td>\n",
       "      <td>01.10.18 07:23:12</td>\n",
       "      <td>01.10.18 08:13:42</td>\n",
       "      <td>0</td>\n",
       "    </tr>\n",
       "    <tr>\n",
       "      <th>3</th>\n",
       "      <td>72.0</td>\n",
       "      <td>1</td>\n",
       "      <td>A</td>\n",
       "      <td>407</td>\n",
       "      <td>608</td>\n",
       "      <td>248</td>\n",
       "      <td>142</td>\n",
       "      <td>s</td>\n",
       "      <td>a</td>\n",
       "      <td>APU3b</td>\n",
       "      <td>2</td>\n",
       "      <td>I</td>\n",
       "      <td>c</td>\n",
       "      <td>g</td>\n",
       "      <td>0.5</td>\n",
       "      <td>1</td>\n",
       "      <td>01.10.18 07:25:09</td>\n",
       "      <td>01.10.18 07:32:53</td>\n",
       "      <td>0</td>\n",
       "    </tr>\n",
       "    <tr>\n",
       "      <th>4</th>\n",
       "      <td>74.0</td>\n",
       "      <td>2</td>\n",
       "      <td>A</td>\n",
       "      <td>408</td>\n",
       "      <td>508</td>\n",
       "      <td>205</td>\n",
       "      <td>176</td>\n",
       "      <td>s</td>\n",
       "      <td>b</td>\n",
       "      <td>APU3b</td>\n",
       "      <td>3</td>\n",
       "      <td>I</td>\n",
       "      <td>b</td>\n",
       "      <td>d</td>\n",
       "      <td>25.0</td>\n",
       "      <td>1</td>\n",
       "      <td>01.10.18 07:51:32</td>\n",
       "      <td>01.10.18 09:41:50</td>\n",
       "      <td>0</td>\n",
       "    </tr>\n",
       "    <tr>\n",
       "      <th>5</th>\n",
       "      <td>74.0</td>\n",
       "      <td>2</td>\n",
       "      <td>A</td>\n",
       "      <td>410</td>\n",
       "      <td>508</td>\n",
       "      <td>219</td>\n",
       "      <td>176</td>\n",
       "      <td>s</td>\n",
       "      <td>b</td>\n",
       "      <td>APU3b</td>\n",
       "      <td>3</td>\n",
       "      <td>I</td>\n",
       "      <td>b</td>\n",
       "      <td>d</td>\n",
       "      <td>0.0</td>\n",
       "      <td>1</td>\n",
       "      <td>01.10.18 07:50:14</td>\n",
       "      <td>01.10.18 09:42:16</td>\n",
       "      <td>0</td>\n",
       "    </tr>\n",
       "    <tr>\n",
       "      <th>...</th>\n",
       "      <td>...</td>\n",
       "      <td>...</td>\n",
       "      <td>...</td>\n",
       "      <td>...</td>\n",
       "      <td>...</td>\n",
       "      <td>...</td>\n",
       "      <td>...</td>\n",
       "      <td>...</td>\n",
       "      <td>...</td>\n",
       "      <td>...</td>\n",
       "      <td>...</td>\n",
       "      <td>...</td>\n",
       "      <td>...</td>\n",
       "      <td>...</td>\n",
       "      <td>...</td>\n",
       "      <td>...</td>\n",
       "      <td>...</td>\n",
       "      <td>...</td>\n",
       "      <td>...</td>\n",
       "    </tr>\n",
       "    <tr>\n",
       "      <th>18878</th>\n",
       "      <td>76600.0</td>\n",
       "      <td>1</td>\n",
       "      <td>A</td>\n",
       "      <td>407</td>\n",
       "      <td>655</td>\n",
       "      <td>282</td>\n",
       "      <td>172</td>\n",
       "      <td>s</td>\n",
       "      <td>b</td>\n",
       "      <td>APU3b</td>\n",
       "      <td>1</td>\n",
       "      <td>I</td>\n",
       "      <td>a</td>\n",
       "      <td>g</td>\n",
       "      <td>0.0</td>\n",
       "      <td>1</td>\n",
       "      <td>31.01.19 20:47:29</td>\n",
       "      <td>31.01.19 20:47:29</td>\n",
       "      <td>0</td>\n",
       "    </tr>\n",
       "    <tr>\n",
       "      <th>18879</th>\n",
       "      <td>76606.0</td>\n",
       "      <td>2</td>\n",
       "      <td>A</td>\n",
       "      <td>406</td>\n",
       "      <td>509</td>\n",
       "      <td>216</td>\n",
       "      <td>103</td>\n",
       "      <td>s</td>\n",
       "      <td>a</td>\n",
       "      <td>APU3a</td>\n",
       "      <td>3</td>\n",
       "      <td>O</td>\n",
       "      <td>c</td>\n",
       "      <td>ad</td>\n",
       "      <td>60.0</td>\n",
       "      <td>2</td>\n",
       "      <td>31.01.19 22:02:52</td>\n",
       "      <td>01.02.19 01:02:00</td>\n",
       "      <td>0</td>\n",
       "    </tr>\n",
       "    <tr>\n",
       "      <th>18880</th>\n",
       "      <td>76611.0</td>\n",
       "      <td>2</td>\n",
       "      <td>A</td>\n",
       "      <td>407</td>\n",
       "      <td>655</td>\n",
       "      <td>282</td>\n",
       "      <td>172</td>\n",
       "      <td>s</td>\n",
       "      <td>b</td>\n",
       "      <td>APU3b</td>\n",
       "      <td>1</td>\n",
       "      <td>I</td>\n",
       "      <td>a</td>\n",
       "      <td>g</td>\n",
       "      <td>0.0</td>\n",
       "      <td>1</td>\n",
       "      <td>31.01.19 19:23:26</td>\n",
       "      <td>31.01.19 19:23:26</td>\n",
       "      <td>0</td>\n",
       "    </tr>\n",
       "    <tr>\n",
       "      <th>18881</th>\n",
       "      <td>76612.0</td>\n",
       "      <td>2</td>\n",
       "      <td>A</td>\n",
       "      <td>407</td>\n",
       "      <td>655</td>\n",
       "      <td>229</td>\n",
       "      <td>172</td>\n",
       "      <td>s</td>\n",
       "      <td>b</td>\n",
       "      <td>APU3b</td>\n",
       "      <td>1</td>\n",
       "      <td>I</td>\n",
       "      <td>c</td>\n",
       "      <td>m</td>\n",
       "      <td>0.4</td>\n",
       "      <td>1</td>\n",
       "      <td>31.01.19 20:23:27</td>\n",
       "      <td>31.01.19 20:32:07</td>\n",
       "      <td>0</td>\n",
       "    </tr>\n",
       "    <tr>\n",
       "      <th>18882</th>\n",
       "      <td>76612.0</td>\n",
       "      <td>2</td>\n",
       "      <td>A</td>\n",
       "      <td>407</td>\n",
       "      <td>655</td>\n",
       "      <td>282</td>\n",
       "      <td>172</td>\n",
       "      <td>s</td>\n",
       "      <td>b</td>\n",
       "      <td>APU3b</td>\n",
       "      <td>1</td>\n",
       "      <td>I</td>\n",
       "      <td>c</td>\n",
       "      <td>m</td>\n",
       "      <td>0.4</td>\n",
       "      <td>1</td>\n",
       "      <td>31.01.19 20:23:27</td>\n",
       "      <td>31.01.19 20:32:32</td>\n",
       "      <td>0</td>\n",
       "    </tr>\n",
       "  </tbody>\n",
       "</table>\n",
       "<p>12386 rows × 19 columns</p>\n",
       "</div>"
      ],
      "text/plain": [
       "       Product ID  Product characteristic 1 Quality Characteristic 8  \\\n",
       "0            26.0                         1                        A   \n",
       "1            50.0                         2                        A   \n",
       "3            72.0                         1                        A   \n",
       "4            74.0                         2                        A   \n",
       "5            74.0                         2                        A   \n",
       "...           ...                       ...                      ...   \n",
       "18878     76600.0                         1                        A   \n",
       "18879     76606.0                         2                        A   \n",
       "18880     76611.0                         2                        A   \n",
       "18881     76612.0                         2                        A   \n",
       "18882     76612.0                         2                        A   \n",
       "\n",
       "       Quality Characteristic 1  Quality Characteristic 2  \\\n",
       "0                           412                       653   \n",
       "1                           408                       793   \n",
       "3                           407                       608   \n",
       "4                           408                       508   \n",
       "5                           410                       508   \n",
       "...                         ...                       ...   \n",
       "18878                       407                       655   \n",
       "18879                       406                       509   \n",
       "18880                       407                       655   \n",
       "18881                       407                       655   \n",
       "18882                       407                       655   \n",
       "\n",
       "       Quality Characteristic 3  Quality Characteristic 4  \\\n",
       "0                           248                       172   \n",
       "1                           221                       147   \n",
       "3                           248                       142   \n",
       "4                           205                       176   \n",
       "5                           219                       176   \n",
       "...                         ...                       ...   \n",
       "18878                       282                       172   \n",
       "18879                       216                       103   \n",
       "18880                       282                       172   \n",
       "18881                       229                       172   \n",
       "18882                       282                       172   \n",
       "\n",
       "      Quality Characteristic 5 Quality Characteristic 6  \\\n",
       "0                            s                        a   \n",
       "1                            s                        b   \n",
       "3                            s                        a   \n",
       "4                            s                        b   \n",
       "5                            s                        b   \n",
       "...                        ...                      ...   \n",
       "18878                        s                        b   \n",
       "18879                        s                        a   \n",
       "18880                        s                        b   \n",
       "18881                        s                        b   \n",
       "18882                        s                        b   \n",
       "\n",
       "      Process Characteristic 1   Process Characteristic 2   \\\n",
       "0                         APU3b                          1   \n",
       "1                         APU3b                          1   \n",
       "3                         APU3b                          2   \n",
       "4                         APU3b                          3   \n",
       "5                         APU3b                          3   \n",
       "...                         ...                        ...   \n",
       "18878                     APU3b                          1   \n",
       "18879                     APU3a                          3   \n",
       "18880                     APU3b                          1   \n",
       "18881                     APU3b                          1   \n",
       "18882                     APU3b                          1   \n",
       "\n",
       "      Rework characteristic 1 Rework characteristic 2 Repair characteristic 1  \\\n",
       "0                           I                       c                       m   \n",
       "1                           I                       b                       d   \n",
       "3                           I                       c                       g   \n",
       "4                           I                       b                       d   \n",
       "5                           I                       b                       d   \n",
       "...                       ...                     ...                     ...   \n",
       "18878                       I                       a                       g   \n",
       "18879                       O                       c                      ad   \n",
       "18880                       I                       a                       g   \n",
       "18881                       I                       c                       m   \n",
       "18882                       I                       c                       m   \n",
       "\n",
       "       Rework Minutes  Quality rating       Capture Date        Rework Date  \\\n",
       "0                 0.0               1  01.10.18 06:34:54  01.10.18 06:35:24   \n",
       "1               285.0               1  01.10.18 07:23:12  01.10.18 08:13:42   \n",
       "3                 0.5               1  01.10.18 07:25:09  01.10.18 07:32:53   \n",
       "4                25.0               1  01.10.18 07:51:32  01.10.18 09:41:50   \n",
       "5                 0.0               1  01.10.18 07:50:14  01.10.18 09:42:16   \n",
       "...               ...             ...                ...                ...   \n",
       "18878             0.0               1  31.01.19 20:47:29  31.01.19 20:47:29   \n",
       "18879            60.0               2  31.01.19 22:02:52  01.02.19 01:02:00   \n",
       "18880             0.0               1  31.01.19 19:23:26  31.01.19 19:23:26   \n",
       "18881             0.4               1  31.01.19 20:23:27  31.01.19 20:32:07   \n",
       "18882             0.4               1  31.01.19 20:23:27  31.01.19 20:32:32   \n",
       "\n",
       "       Quality Characteristic 7  \n",
       "0                             0  \n",
       "1                             0  \n",
       "3                             0  \n",
       "4                             0  \n",
       "5                             0  \n",
       "...                         ...  \n",
       "18878                         0  \n",
       "18879                         0  \n",
       "18880                         0  \n",
       "18881                         0  \n",
       "18882                         0  \n",
       "\n",
       "[12386 rows x 19 columns]"
      ]
     },
     "execution_count": 126,
     "metadata": {},
     "output_type": "execute_result"
    }
   ],
   "source": [
    "new_quality"
   ]
  },
  {
   "cell_type": "code",
   "execution_count": 127,
   "metadata": {},
   "outputs": [
    {
     "data": {
      "text/plain": [
       "array([  0. , 285. ,   0.5, ...,   0. ,   0.4,   0.4])"
      ]
     },
     "execution_count": 127,
     "metadata": {},
     "output_type": "execute_result"
    }
   ],
   "source": [
    "#np.array(new_quality.iloc[:, 15:16]) \n",
    "np.array(new_quality.iloc[:, 14])"
   ]
  },
  {
   "cell_type": "code",
   "execution_count": 128,
   "metadata": {},
   "outputs": [
    {
     "data": {
      "text/plain": [
       "[<matplotlib.lines.Line2D at 0x1a2399c090>]"
      ]
     },
     "execution_count": 128,
     "metadata": {},
     "output_type": "execute_result"
    },
    {
     "data": {
      "image/png": "[encoded data removed]",
      "text/plain": [
       "<Figure size 432x288 with 1 Axes>"
      ]
     },
     "metadata": {
      "needs_background": "light"
     },
     "output_type": "display_data"
    }
   ],
   "source": [
    "plt.plot(np.array(new_quality.iloc[:, 15]), np.array(new_quality.iloc[:, 14]), 'o')"
   ]
  },
  {
   "cell_type": "code",
   "execution_count": 129,
   "metadata": {},
   "outputs": [],
   "source": [
    "Y = np.matrix(new_quality.iloc[:, 14])\n",
    "\n",
    "X = np.matrix(new_quality.iloc[:, 15])\n",
    "\n",
    "k = len(np.transpose(X))\n",
    "\n",
    "if np.shape(X)[0] == 1:\n",
    "    X = np.transpose(X)\n",
    "\n",
    "X_mod = np.c_[np.ones(k), X]\n",
    "\n",
    "if np.shape(Y)[0] == 1:\n",
    "    Y_mod = np.transpose(Y)"
   ]
  },
  {
   "cell_type": "code",
   "execution_count": 130,
   "metadata": {},
   "outputs": [
    {
     "data": {
      "text/plain": [
       "(12386, 2)"
      ]
     },
     "execution_count": 130,
     "metadata": {},
     "output_type": "execute_result"
    }
   ],
   "source": [
    "np.shape(X_mod)\n"
   ]
  },
  {
   "cell_type": "code",
   "execution_count": 131,
   "metadata": {},
   "outputs": [
    {
     "data": {
      "text/plain": [
       "matrix([[  0. ],\n",
       "        [285. ],\n",
       "        [  0.5],\n",
       "        ...,\n",
       "        [  0. ],\n",
       "        [  0.4],\n",
       "        [  0.4]])"
      ]
     },
     "execution_count": 131,
     "metadata": {},
     "output_type": "execute_result"
    }
   ],
   "source": [
    "#Y_mod = Y\n",
    "Y_mod"
   ]
  },
  {
   "cell_type": "code",
   "execution_count": 132,
   "metadata": {},
   "outputs": [],
   "source": [
    "def least_squares_variables():\n",
    "    A = []\n",
    "    j = 0\n",
    "    A_whole = np.linalg.inv(np.transpose(X_mod) * X_mod) * np.transpose(X_mod) * Y_mod\n",
    "    A.append(A_whole)\n",
    "    return A\n",
    "A = least_squares_variables()"
   ]
  },
  {
   "cell_type": "code",
   "execution_count": 133,
   "metadata": {},
   "outputs": [],
   "source": [
    "# Once the linear coefficents have been calculated, the predicted y-cooridnates can be easily calculated\n",
    "# as follows.\n",
    "\n",
    "\"Initial line(s) of best fit\"\n",
    "\n",
    "Y_linear = np.zeros(np.shape(X))\n",
    "j = 0\n",
    "i = 0\n",
    "for i in range(k):\n",
    "    Y_linear[i] =  np.float(A[j][0]) + np.float(A[j][1]) * X[i]"
   ]
  },
  {
   "cell_type": "code",
   "execution_count": 134,
   "metadata": {},
   "outputs": [
    {
     "data": {
      "text/plain": [
       "[<matplotlib.lines.Line2D at 0x1a1ed5b710>]"
      ]
     },
     "execution_count": 134,
     "metadata": {},
     "output_type": "execute_result"
    },
    {
     "data": {
      "image/png": "[encoded data removed]",
      "text/plain": [
       "<Figure size 432x288 with 1 Axes>"
      ]
     },
     "metadata": {
      "needs_background": "light"
     },
     "output_type": "display_data"
    }
   ],
   "source": [
    "plt.plot(X[:],Y_linear[:])\n",
    "plt.plot(X[:], Y_mod[:], 'o')"
   ]
  },
  {
   "cell_type": "code",
   "execution_count": 135,
   "metadata": {},
   "outputs": [
    {
     "name": "stdout",
     "output_type": "stream",
     "text": [
      "Product ID                   0.052374\n",
      "Product characteristic 1     0.222585\n",
      "Quality Characteristic 1     1.844316\n",
      "Quality Characteristic 2     0.086148\n",
      "Quality Characteristic 3     0.889886\n",
      "Quality Characteristic 4     0.104282\n",
      "Process Characteristic 2     0.012699\n",
      "Rework Minutes               7.535727\n",
      "Quality rating               1.471586\n",
      "Quality Characteristic 7     6.544478\n",
      "dtype: float64\n"
     ]
    }
   ],
   "source": [
    "print(new_quality.skew())"
   ]
  },
  {
   "cell_type": "code",
   "execution_count": 136,
   "metadata": {},
   "outputs": [
    {
     "data": {
      "text/plain": [
       "Text(0.5, 1.0, 'Violin plot of Rework Minutes')"
      ]
     },
     "execution_count": 136,
     "metadata": {},
     "output_type": "execute_result"
    },
    {
     "data": {
      "image/png": "[encoded data removed]",
      "text/plain": [
       "<Figure size 432x288 with 1 Axes>"
      ]
     },
     "metadata": {
      "needs_background": "light"
     },
     "output_type": "display_data"
    }
   ],
   "source": [
    "sns.violinplot(Y).set_title(\"Violin plot of Rework Minutes\", size = 20)"
   ]
  },
  {
   "cell_type": "code",
   "execution_count": 137,
   "metadata": {},
   "outputs": [
    {
     "data": {
      "text/plain": [
       "Text(0.5, 1.0, 'Violin plot of quality rating')"
      ]
     },
     "execution_count": 137,
     "metadata": {},
     "output_type": "execute_result"
    },
    {
     "data": {
      "image/png": "[encoded data removed]",
      "text/plain": [
       "<Figure size 432x288 with 1 Axes>"
      ]
     },
     "metadata": {
      "needs_background": "light"
     },
     "output_type": "display_data"
    }
   ],
   "source": [
    "sns.violinplot(X).set_title(\"Violin plot of quality rating\", size = 20)"
   ]
  },
  {
   "cell_type": "code",
   "execution_count": null,
   "metadata": {},
   "outputs": [],
   "source": []
  },
  {
   "cell_type": "code",
   "execution_count": null,
   "metadata": {},
   "outputs": [],
   "source": []
  },
  {
   "cell_type": "code",
   "execution_count": 138,
   "metadata": {},
   "outputs": [
    {
     "data": {
      "text/html": [
       "<div>\n",
       "<style scoped>\n",
       "    .dataframe tbody tr th:only-of-type {\n",
       "        vertical-align: middle;\n",
       "    }\n",
       "\n",
       "    .dataframe tbody tr th {\n",
       "        vertical-align: top;\n",
       "    }\n",
       "\n",
       "    .dataframe thead th {\n",
       "        text-align: right;\n",
       "    }\n",
       "</style>\n",
       "<table border=\"1\" class=\"dataframe\">\n",
       "  <thead>\n",
       "    <tr style=\"text-align: right;\">\n",
       "      <th></th>\n",
       "      <th>Start</th>\n",
       "      <th>End</th>\n",
       "      <th>Total duration</th>\n",
       "      <th>Alarm text</th>\n",
       "      <th>Alarm class</th>\n",
       "    </tr>\n",
       "  </thead>\n",
       "  <tbody>\n",
       "    <tr>\n",
       "      <th>0</th>\n",
       "      <td>01/10/2018 01:35</td>\n",
       "      <td>01/10/2018 06:00</td>\n",
       "      <td>15,897</td>\n",
       "      <td>a</td>\n",
       "      <td>S</td>\n",
       "    </tr>\n",
       "    <tr>\n",
       "      <th>1</th>\n",
       "      <td>01/10/2018 03:04</td>\n",
       "      <td>01/10/2018 06:00</td>\n",
       "      <td>10,538</td>\n",
       "      <td>b</td>\n",
       "      <td>E</td>\n",
       "    </tr>\n",
       "    <tr>\n",
       "      <th>2</th>\n",
       "      <td>01/10/2018 06:00</td>\n",
       "      <td>01/10/2018 06:00</td>\n",
       "      <td>14</td>\n",
       "      <td>a</td>\n",
       "      <td>S</td>\n",
       "    </tr>\n",
       "    <tr>\n",
       "      <th>3</th>\n",
       "      <td>01/10/2018 06:15</td>\n",
       "      <td>01/10/2018 06:16</td>\n",
       "      <td>71</td>\n",
       "      <td>a</td>\n",
       "      <td>S</td>\n",
       "    </tr>\n",
       "    <tr>\n",
       "      <th>4</th>\n",
       "      <td>01/10/2018 06:15</td>\n",
       "      <td>01/10/2018 06:16</td>\n",
       "      <td>66</td>\n",
       "      <td>c</td>\n",
       "      <td>O</td>\n",
       "    </tr>\n",
       "    <tr>\n",
       "      <th>...</th>\n",
       "      <td>...</td>\n",
       "      <td>...</td>\n",
       "      <td>...</td>\n",
       "      <td>...</td>\n",
       "      <td>...</td>\n",
       "    </tr>\n",
       "    <tr>\n",
       "      <th>15631</th>\n",
       "      <td>31/01/2019 11:30</td>\n",
       "      <td>31/01/2019 11:45</td>\n",
       "      <td>906</td>\n",
       "      <td>c</td>\n",
       "      <td>O</td>\n",
       "    </tr>\n",
       "    <tr>\n",
       "      <th>15632</th>\n",
       "      <td>31/01/2019 11:52</td>\n",
       "      <td>31/01/2019 11:53</td>\n",
       "      <td>28</td>\n",
       "      <td>a</td>\n",
       "      <td>S</td>\n",
       "    </tr>\n",
       "    <tr>\n",
       "      <th>15633</th>\n",
       "      <td>31/01/2019 11:52</td>\n",
       "      <td>31/01/2019 11:53</td>\n",
       "      <td>23</td>\n",
       "      <td>c</td>\n",
       "      <td>O</td>\n",
       "    </tr>\n",
       "    <tr>\n",
       "      <th>15634</th>\n",
       "      <td>31/01/2019 11:57</td>\n",
       "      <td>31/01/2019 11:58</td>\n",
       "      <td>33</td>\n",
       "      <td>a</td>\n",
       "      <td>S</td>\n",
       "    </tr>\n",
       "    <tr>\n",
       "      <th>15635</th>\n",
       "      <td>31/01/2019 11:57</td>\n",
       "      <td>31/01/2019 11:58</td>\n",
       "      <td>29</td>\n",
       "      <td>c</td>\n",
       "      <td>O</td>\n",
       "    </tr>\n",
       "  </tbody>\n",
       "</table>\n",
       "<p>15636 rows × 5 columns</p>\n",
       "</div>"
      ],
      "text/plain": [
       "                  Start               End Total duration Alarm text  \\\n",
       "0      01/10/2018 01:35  01/10/2018 06:00         15,897          a   \n",
       "1      01/10/2018 03:04  01/10/2018 06:00         10,538          b   \n",
       "2      01/10/2018 06:00  01/10/2018 06:00             14          a   \n",
       "3      01/10/2018 06:15  01/10/2018 06:16             71          a   \n",
       "4      01/10/2018 06:15  01/10/2018 06:16             66          c   \n",
       "...                 ...               ...            ...        ...   \n",
       "15631  31/01/2019 11:30  31/01/2019 11:45            906          c   \n",
       "15632  31/01/2019 11:52  31/01/2019 11:53             28          a   \n",
       "15633  31/01/2019 11:52  31/01/2019 11:53             23          c   \n",
       "15634  31/01/2019 11:57  31/01/2019 11:58             33          a   \n",
       "15635  31/01/2019 11:57  31/01/2019 11:58             29          c   \n",
       "\n",
       "      Alarm class  \n",
       "0               S  \n",
       "1               E  \n",
       "2               S  \n",
       "3               S  \n",
       "4               O  \n",
       "...           ...  \n",
       "15631           O  \n",
       "15632           S  \n",
       "15633           O  \n",
       "15634           S  \n",
       "15635           O  \n",
       "\n",
       "[15636 rows x 5 columns]"
      ]
     },
     "execution_count": 138,
     "metadata": {},
     "output_type": "execute_result"
    }
   ],
   "source": [
    "B = 'Process_disturbances.csv'\n",
    "\n",
    "process_disturbances = pd.read_csv(B)\n",
    "process_disturbances"
   ]
  },
  {
   "cell_type": "code",
   "execution_count": 139,
   "metadata": {},
   "outputs": [
    {
     "data": {
      "text/html": [
       "<div>\n",
       "<style scoped>\n",
       "    .dataframe tbody tr th:only-of-type {\n",
       "        vertical-align: middle;\n",
       "    }\n",
       "\n",
       "    .dataframe tbody tr th {\n",
       "        vertical-align: top;\n",
       "    }\n",
       "\n",
       "    .dataframe thead th {\n",
       "        text-align: right;\n",
       "    }\n",
       "</style>\n",
       "<table border=\"1\" class=\"dataframe\">\n",
       "  <thead>\n",
       "    <tr style=\"text-align: right;\">\n",
       "      <th></th>\n",
       "      <th>ZPKT</th>\n",
       "      <th>Format Date</th>\n",
       "      <th>Product ID</th>\n",
       "    </tr>\n",
       "  </thead>\n",
       "  <tbody>\n",
       "    <tr>\n",
       "      <th>0</th>\n",
       "      <td>Z3200</td>\n",
       "      <td>01/10/2018 01:34</td>\n",
       "      <td>147</td>\n",
       "    </tr>\n",
       "    <tr>\n",
       "      <th>1</th>\n",
       "      <td>Z3200</td>\n",
       "      <td>01/10/2018 06:00</td>\n",
       "      <td>149</td>\n",
       "    </tr>\n",
       "    <tr>\n",
       "      <th>2</th>\n",
       "      <td>Z3299</td>\n",
       "      <td>01/10/2018 06:00</td>\n",
       "      <td>114</td>\n",
       "    </tr>\n",
       "    <tr>\n",
       "      <th>3</th>\n",
       "      <td>Z3200</td>\n",
       "      <td>01/10/2018 06:01</td>\n",
       "      <td>156</td>\n",
       "    </tr>\n",
       "    <tr>\n",
       "      <th>4</th>\n",
       "      <td>Z3299</td>\n",
       "      <td>01/10/2018 06:01</td>\n",
       "      <td>160</td>\n",
       "    </tr>\n",
       "    <tr>\n",
       "      <th>...</th>\n",
       "      <td>...</td>\n",
       "      <td>...</td>\n",
       "      <td>...</td>\n",
       "    </tr>\n",
       "    <tr>\n",
       "      <th>142280</th>\n",
       "      <td>Z3299</td>\n",
       "      <td>24/01/2019 20:21</td>\n",
       "      <td>71481</td>\n",
       "    </tr>\n",
       "    <tr>\n",
       "      <th>142281</th>\n",
       "      <td>Z3299</td>\n",
       "      <td>24/01/2019 20:28</td>\n",
       "      <td>71492</td>\n",
       "    </tr>\n",
       "    <tr>\n",
       "      <th>142282</th>\n",
       "      <td>Z3299</td>\n",
       "      <td>24/01/2019 20:30</td>\n",
       "      <td>71486</td>\n",
       "    </tr>\n",
       "    <tr>\n",
       "      <th>142283</th>\n",
       "      <td>Z3299</td>\n",
       "      <td>24/01/2019 20:31</td>\n",
       "      <td>71490</td>\n",
       "    </tr>\n",
       "    <tr>\n",
       "      <th>142284</th>\n",
       "      <td>Z3299</td>\n",
       "      <td>24/01/2019 20:38</td>\n",
       "      <td>71489</td>\n",
       "    </tr>\n",
       "  </tbody>\n",
       "</table>\n",
       "<p>142285 rows × 3 columns</p>\n",
       "</div>"
      ],
      "text/plain": [
       "         ZPKT       Format Date  Product ID\n",
       "0       Z3200  01/10/2018 01:34         147\n",
       "1       Z3200  01/10/2018 06:00         149\n",
       "2       Z3299  01/10/2018 06:00         114\n",
       "3       Z3200  01/10/2018 06:01         156\n",
       "4       Z3299  01/10/2018 06:01         160\n",
       "...       ...               ...         ...\n",
       "142280  Z3299  24/01/2019 20:21       71481\n",
       "142281  Z3299  24/01/2019 20:28       71492\n",
       "142282  Z3299  24/01/2019 20:30       71486\n",
       "142283  Z3299  24/01/2019 20:31       71490\n",
       "142284  Z3299  24/01/2019 20:38       71489\n",
       "\n",
       "[142285 rows x 3 columns]"
      ]
     },
     "execution_count": 139,
     "metadata": {},
     "output_type": "execute_result"
    }
   ],
   "source": [
    "C = 'Product_tracking_information.csv'\n",
    "\n",
    "#tracking points\n",
    "#Z3200 - entry into process\n",
    "#Z3299 - exit out of process\n",
    "\n",
    "track_info = pd.read_csv(C)\n",
    "track_info"
   ]
  },
  {
   "cell_type": "code",
   "execution_count": 140,
   "metadata": {},
   "outputs": [
    {
     "data": {
      "text/plain": [
       "2047     2\n",
       "21920    2\n",
       "46396    2\n",
       "48445    2\n",
       "42302    2\n",
       "        ..\n",
       "17742    1\n",
       "23276    1\n",
       "26148    1\n",
       "27062    1\n",
       "5171     1\n",
       "Name: Product ID, Length: 71177, dtype: int64"
      ]
     },
     "execution_count": 140,
     "metadata": {},
     "output_type": "execute_result"
    }
   ],
   "source": [
    "track_info[\"Product ID\"].value_counts()"
   ]
  },
  {
   "cell_type": "code",
   "execution_count": 141,
   "metadata": {},
   "outputs": [
    {
     "data": {
      "text/plain": [
       "Product ID                   0.116218\n",
       "Product characteristic 1     0.207190\n",
       "Quality Characteristic 1     2.211331\n",
       "Quality Characteristic 2     0.129689\n",
       "Quality Characteristic 3     0.797046\n",
       "Quality Characteristic 4     0.118523\n",
       "Process Characteristic 2     0.062819\n",
       "Rework Minutes               9.107313\n",
       "Quality rating               1.719865\n",
       "Quality Characteristic 7     4.287207\n",
       "dtype: float64"
      ]
     },
     "execution_count": 141,
     "metadata": {},
     "output_type": "execute_result"
    }
   ],
   "source": [
    "quality_data.skew()"
   ]
  },
  {
   "cell_type": "code",
   "execution_count": 142,
   "metadata": {},
   "outputs": [
    {
     "data": {
      "text/plain": [
       "0        1\n",
       "1        2\n",
       "2        1\n",
       "3        1\n",
       "4        2\n",
       "        ..\n",
       "18908    1\n",
       "18909    1\n",
       "18910    2\n",
       "18911    1\n",
       "18912    1\n",
       "Name: Product characteristic 1, Length: 18913, dtype: int64"
      ]
     },
     "execution_count": 142,
     "metadata": {},
     "output_type": "execute_result"
    }
   ],
   "source": [
    "quality_data.iloc[:,1]"
   ]
  },
  {
   "cell_type": "code",
   "execution_count": 143,
   "metadata": {},
   "outputs": [
    {
     "data": {
      "text/plain": [
       "0          0.0\n",
       "8765       0.0\n",
       "8743       0.0\n",
       "8741       0.0\n",
       "8738       0.0\n",
       "         ...  \n",
       "2459     540.0\n",
       "18312    560.0\n",
       "2805     600.0\n",
       "3116     720.0\n",
       "1982     840.0\n",
       "Name: Rework Minutes, Length: 12386, dtype: float64"
      ]
     },
     "execution_count": 143,
     "metadata": {},
     "output_type": "execute_result"
    }
   ],
   "source": [
    "ordered_time = new_quality.sort_values(by='Rework Minutes', ascending=True)\n",
    "ordered_time.iloc[:,14]\n"
   ]
  },
  {
   "cell_type": "code",
   "execution_count": 144,
   "metadata": {},
   "outputs": [],
   "source": [
    "high_ordered_time = ordered_time\n",
    "\n",
    "for i in range(len(ordered_time)-1, -1 , -1):\n",
    "    if (ordered_time.iloc[i, 14]) == 0 :\n",
    "        high_ordered_time = high_ordered_time.drop(high_ordered_time.index[i])"
   ]
  },
  {
   "cell_type": "code",
   "execution_count": 145,
   "metadata": {},
   "outputs": [
    {
     "data": {
      "text/plain": [
       "(4535, 19)"
      ]
     },
     "execution_count": 145,
     "metadata": {},
     "output_type": "execute_result"
    }
   ],
   "source": [
    "np.shape(high_ordered_time)"
   ]
  },
  {
   "cell_type": "code",
   "execution_count": 146,
   "metadata": {},
   "outputs": [
    {
     "data": {
      "image/png": "[encoded data removed]",
      "text/plain": [
       "<Figure size 432x288 with 2 Axes>"
      ]
     },
     "metadata": {
      "needs_background": "light"
     },
     "output_type": "display_data"
    }
   ],
   "source": [
    "corr = new_quality.corr()\n",
    "fig = plt.figure()\n",
    "ax = fig.add_subplot(111)\n",
    "cax = ax.matshow(corr,cmap='coolwarm', vmin=-1, vmax=1)\n",
    "fig.colorbar(cax)\n",
    "ticks = np.arange(0,10,1)\n",
    "ax.set_xticks(ticks)\n",
    "plt.xticks(rotation=90)\n",
    "ax.set_yticks(ticks)\n",
    "ax.set_xticklabels(new_quality.columns)\n",
    "ax.set_yticklabels(new_quality.columns)\n",
    "plt.show()"
   ]
  },
  {
   "cell_type": "code",
   "execution_count": 147,
   "metadata": {},
   "outputs": [
    {
     "data": {
      "image/png": "[encoded data removed]",
      "text/plain": [
       "<Figure size 864x576 with 2 Axes>"
      ]
     },
     "metadata": {
      "needs_background": "light"
     },
     "output_type": "display_data"
    },
    {
     "data": {
      "image/png": "[encoded data removed]",
      "text/plain": [
       "<Figure size 864x576 with 2 Axes>"
      ]
     },
     "metadata": {
      "needs_background": "light"
     },
     "output_type": "display_data"
    },
    {
     "data": {
      "image/png": "[encoded data removed]",
      "text/plain": [
       "<Figure size 864x576 with 2 Axes>"
      ]
     },
     "metadata": {
      "needs_background": "light"
     },
     "output_type": "display_data"
    },
    {
     "data": {
      "image/png": "[encoded data removed]",
      "text/plain": [
       "<Figure size 864x576 with 2 Axes>"
      ]
     },
     "metadata": {
      "needs_background": "light"
     },
     "output_type": "display_data"
    },
    {
     "data": {
      "image/png": "[encoded data removed]",
      "text/plain": [
       "<Figure size 864x576 with 2 Axes>"
      ]
     },
     "metadata": {
      "needs_background": "light"
     },
     "output_type": "display_data"
    },
    {
     "data": {
      "image/png": "[encoded data removed]",
      "text/plain": [
       "<Figure size 864x576 with 2 Axes>"
      ]
     },
     "metadata": {
      "needs_background": "light"
     },
     "output_type": "display_data"
    },
    {
     "data": {
      "image/png": "[encoded data removed]",
      "text/plain": [
       "<Figure size 864x576 with 2 Axes>"
      ]
     },
     "metadata": {
      "needs_background": "light"
     },
     "output_type": "display_data"
    }
   ],
   "source": [
    "# Count of each label in each category\n",
    "data = high_ordered_time.iloc[:, 1:15]\n",
    "\n",
    "#names of all the columns\n",
    "cols = data.columns\n",
    "\n",
    "#Plot count plot for all attributes in a 29x4 grid\n",
    "n_cols = 2\n",
    "n_rows = 7\n",
    "for i in range(n_rows):\n",
    "    fg,ax = plt.subplots(nrows=1,ncols=n_cols,sharey=True,figsize=(12, 8))\n",
    "    for j in range(n_cols):\n",
    "        sns.countplot(x=cols[i*n_cols+j], data=data, ax=ax[j])"
   ]
  },
  {
   "cell_type": "code",
   "execution_count": 148,
   "metadata": {},
   "outputs": [
    {
     "data": {
      "text/plain": [
       "a    9577\n",
       "b    2524\n",
       "c     282\n",
       "d       3\n",
       "Name: Quality Characteristic 6, dtype: int64"
      ]
     },
     "execution_count": 148,
     "metadata": {},
     "output_type": "execute_result"
    }
   ],
   "source": [
    "new_quality[\"Quality Characteristic 6\"].value_counts()"
   ]
  },
  {
   "cell_type": "code",
   "execution_count": 149,
   "metadata": {},
   "outputs": [
    {
     "data": {
      "text/plain": [
       "9.001797190376232"
      ]
     },
     "execution_count": 149,
     "metadata": {},
     "output_type": "execute_result"
    }
   ],
   "source": [
    "new_quality[\"Rework Minutes\"].mean()"
   ]
  },
  {
   "cell_type": "code",
   "execution_count": 150,
   "metadata": {},
   "outputs": [
    {
     "data": {
      "text/plain": [
       "24.585724366041894"
      ]
     },
     "execution_count": 150,
     "metadata": {},
     "output_type": "execute_result"
    }
   ],
   "source": [
    "high_ordered_time[\"Rework Minutes\"].mean()"
   ]
  },
  {
   "cell_type": "code",
   "execution_count": null,
   "metadata": {},
   "outputs": [],
   "source": []
  }
 ],
 "metadata": {
  "kernelspec": {
   "display_name": "Python 3",
   "language": "python",
   "name": "python3"
  },
  "language_info": {
   "codemirror_mode": {
    "name": "ipython",
    "version": 3
   },
   "file_extension": ".py",
   "mimetype": "text/x-python",
   "name": "python",
   "nbconvert_exporter": "python",
   "pygments_lexer": "ipython3",
   "version": "3.7.6"
  }
 },
 "nbformat": 4,
 "nbformat_minor": 2
}
