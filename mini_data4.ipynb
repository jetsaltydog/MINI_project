{
 "cells": [
  {
   "cell_type": "code",
   "execution_count": 1,
   "metadata": {},
   "outputs": [
    {
     "name": "stderr",
     "output_type": "stream",
     "text": [
      "\n",
      "Bad key \"text.kerning_factor\" on line 4 in\n",
      "/Users/williampaterson/opt/miniconda3/lib/python3.7/site-packages/matplotlib/mpl-data/stylelib/_classic_test_patch.mplstyle.\n",
      "You probably need to get an updated matplotlibrc file from\n",
      "https://github.com/matplotlib/matplotlib/blob/v3.1.3/matplotlibrc.template\n",
      "or from the matplotlib source distribution\n"
     ]
    }
   ],
   "source": [
    "import pandas as pd\n",
    "import numpy as np\n",
    "import matplotlib.pyplot as plt\n",
    "import seaborn as sns\n",
    "from sklearn import preprocessing"
   ]
  },
  {
   "cell_type": "code",
   "execution_count": 2,
   "metadata": {},
   "outputs": [],
   "source": [
    "import matplotlib.dates as dates"
   ]
  },
  {
   "cell_type": "code",
   "execution_count": 3,
   "metadata": {},
   "outputs": [
    {
     "data": {
      "text/html": [
       "<div>\n",
       "<style scoped>\n",
       "    .dataframe tbody tr th:only-of-type {\n",
       "        vertical-align: middle;\n",
       "    }\n",
       "\n",
       "    .dataframe tbody tr th {\n",
       "        vertical-align: top;\n",
       "    }\n",
       "\n",
       "    .dataframe thead th {\n",
       "        text-align: right;\n",
       "    }\n",
       "</style>\n",
       "<table border=\"1\" class=\"dataframe\">\n",
       "  <thead>\n",
       "    <tr style=\"text-align: right;\">\n",
       "      <th></th>\n",
       "      <th>Product ID</th>\n",
       "      <th>Product characteristic 1</th>\n",
       "      <th>Quality Characteristic 8</th>\n",
       "      <th>Quality Characteristic 1</th>\n",
       "      <th>Quality Characteristic 2</th>\n",
       "      <th>Quality Characteristic 3</th>\n",
       "      <th>Quality Characteristic 4</th>\n",
       "      <th>Quality Characteristic 5</th>\n",
       "      <th>Quality Characteristic 6</th>\n",
       "      <th>Process Characteristic 1</th>\n",
       "      <th>Process Characteristic 2</th>\n",
       "      <th>Rework characteristic 1</th>\n",
       "      <th>Rework characteristic 2</th>\n",
       "      <th>Repair characteristic 1</th>\n",
       "      <th>Rework Minutes</th>\n",
       "      <th>Quality rating</th>\n",
       "      <th>Capture Date</th>\n",
       "      <th>Rework Date</th>\n",
       "      <th>Quality Characteristic 7</th>\n",
       "    </tr>\n",
       "  </thead>\n",
       "  <tbody>\n",
       "    <tr>\n",
       "      <th>0</th>\n",
       "      <td>26.0</td>\n",
       "      <td>1</td>\n",
       "      <td>A</td>\n",
       "      <td>412</td>\n",
       "      <td>653</td>\n",
       "      <td>248</td>\n",
       "      <td>172</td>\n",
       "      <td>s</td>\n",
       "      <td>a</td>\n",
       "      <td>APU3b</td>\n",
       "      <td>1</td>\n",
       "      <td>I</td>\n",
       "      <td>c</td>\n",
       "      <td>m</td>\n",
       "      <td>0.0</td>\n",
       "      <td>1</td>\n",
       "      <td>01.10.18 06:34:54</td>\n",
       "      <td>01.10.18 06:35:24</td>\n",
       "      <td>0</td>\n",
       "    </tr>\n",
       "    <tr>\n",
       "      <th>1</th>\n",
       "      <td>50.0</td>\n",
       "      <td>2</td>\n",
       "      <td>A</td>\n",
       "      <td>408</td>\n",
       "      <td>793</td>\n",
       "      <td>221</td>\n",
       "      <td>147</td>\n",
       "      <td>s</td>\n",
       "      <td>b</td>\n",
       "      <td>APU3b</td>\n",
       "      <td>1</td>\n",
       "      <td>I</td>\n",
       "      <td>b</td>\n",
       "      <td>d</td>\n",
       "      <td>285.0</td>\n",
       "      <td>1</td>\n",
       "      <td>01.10.18 07:23:12</td>\n",
       "      <td>01.10.18 08:13:42</td>\n",
       "      <td>0</td>\n",
       "    </tr>\n",
       "    <tr>\n",
       "      <th>2</th>\n",
       "      <td>72.0</td>\n",
       "      <td>1</td>\n",
       "      <td>A</td>\n",
       "      <td>407</td>\n",
       "      <td>608</td>\n",
       "      <td>210</td>\n",
       "      <td>117</td>\n",
       "      <td>s</td>\n",
       "      <td>a</td>\n",
       "      <td>APU3b</td>\n",
       "      <td>4</td>\n",
       "      <td>O</td>\n",
       "      <td>a</td>\n",
       "      <td>b</td>\n",
       "      <td>0.0</td>\n",
       "      <td>1</td>\n",
       "      <td>01.10.18 15:39:57</td>\n",
       "      <td>01.10.18 16:50:40</td>\n",
       "      <td>0</td>\n",
       "    </tr>\n",
       "    <tr>\n",
       "      <th>3</th>\n",
       "      <td>72.0</td>\n",
       "      <td>1</td>\n",
       "      <td>A</td>\n",
       "      <td>407</td>\n",
       "      <td>608</td>\n",
       "      <td>248</td>\n",
       "      <td>142</td>\n",
       "      <td>s</td>\n",
       "      <td>a</td>\n",
       "      <td>APU3b</td>\n",
       "      <td>2</td>\n",
       "      <td>I</td>\n",
       "      <td>c</td>\n",
       "      <td>g</td>\n",
       "      <td>0.5</td>\n",
       "      <td>1</td>\n",
       "      <td>01.10.18 07:25:09</td>\n",
       "      <td>01.10.18 07:32:53</td>\n",
       "      <td>0</td>\n",
       "    </tr>\n",
       "    <tr>\n",
       "      <th>4</th>\n",
       "      <td>74.0</td>\n",
       "      <td>2</td>\n",
       "      <td>A</td>\n",
       "      <td>408</td>\n",
       "      <td>508</td>\n",
       "      <td>205</td>\n",
       "      <td>176</td>\n",
       "      <td>s</td>\n",
       "      <td>b</td>\n",
       "      <td>APU3b</td>\n",
       "      <td>3</td>\n",
       "      <td>I</td>\n",
       "      <td>b</td>\n",
       "      <td>d</td>\n",
       "      <td>25.0</td>\n",
       "      <td>1</td>\n",
       "      <td>01.10.18 07:51:32</td>\n",
       "      <td>01.10.18 09:41:50</td>\n",
       "      <td>0</td>\n",
       "    </tr>\n",
       "    <tr>\n",
       "      <th>...</th>\n",
       "      <td>...</td>\n",
       "      <td>...</td>\n",
       "      <td>...</td>\n",
       "      <td>...</td>\n",
       "      <td>...</td>\n",
       "      <td>...</td>\n",
       "      <td>...</td>\n",
       "      <td>...</td>\n",
       "      <td>...</td>\n",
       "      <td>...</td>\n",
       "      <td>...</td>\n",
       "      <td>...</td>\n",
       "      <td>...</td>\n",
       "      <td>...</td>\n",
       "      <td>...</td>\n",
       "      <td>...</td>\n",
       "      <td>...</td>\n",
       "      <td>...</td>\n",
       "      <td>...</td>\n",
       "    </tr>\n",
       "    <tr>\n",
       "      <th>18908</th>\n",
       "      <td>NaN</td>\n",
       "      <td>1</td>\n",
       "      <td>A</td>\n",
       "      <td>407</td>\n",
       "      <td>628</td>\n",
       "      <td>210</td>\n",
       "      <td>122</td>\n",
       "      <td>s</td>\n",
       "      <td>b</td>\n",
       "      <td>APU3b</td>\n",
       "      <td>1</td>\n",
       "      <td>I</td>\n",
       "      <td>a</td>\n",
       "      <td>m</td>\n",
       "      <td>0.0</td>\n",
       "      <td>1</td>\n",
       "      <td>31.01.19 22:15:06</td>\n",
       "      <td>31.01.19 22:15:06</td>\n",
       "      <td>0</td>\n",
       "    </tr>\n",
       "    <tr>\n",
       "      <th>18909</th>\n",
       "      <td>NaN</td>\n",
       "      <td>1</td>\n",
       "      <td>A</td>\n",
       "      <td>407</td>\n",
       "      <td>655</td>\n",
       "      <td>229</td>\n",
       "      <td>172</td>\n",
       "      <td>s</td>\n",
       "      <td>b</td>\n",
       "      <td>APU3b</td>\n",
       "      <td>1</td>\n",
       "      <td>I</td>\n",
       "      <td>a</td>\n",
       "      <td>m</td>\n",
       "      <td>0.0</td>\n",
       "      <td>1</td>\n",
       "      <td>31.01.19 22:16:17</td>\n",
       "      <td>31.01.19 22:22:51</td>\n",
       "      <td>0</td>\n",
       "    </tr>\n",
       "    <tr>\n",
       "      <th>18910</th>\n",
       "      <td>NaN</td>\n",
       "      <td>2</td>\n",
       "      <td>A</td>\n",
       "      <td>407</td>\n",
       "      <td>657</td>\n",
       "      <td>266</td>\n",
       "      <td>122</td>\n",
       "      <td>s</td>\n",
       "      <td>b</td>\n",
       "      <td>APU3b</td>\n",
       "      <td>1</td>\n",
       "      <td>I</td>\n",
       "      <td>a</td>\n",
       "      <td>b</td>\n",
       "      <td>0.0</td>\n",
       "      <td>1</td>\n",
       "      <td>31.01.19 22:27:37</td>\n",
       "      <td>31.01.19 22:36:22</td>\n",
       "      <td>0</td>\n",
       "    </tr>\n",
       "    <tr>\n",
       "      <th>18911</th>\n",
       "      <td>NaN</td>\n",
       "      <td>1</td>\n",
       "      <td>A</td>\n",
       "      <td>407</td>\n",
       "      <td>655</td>\n",
       "      <td>229</td>\n",
       "      <td>172</td>\n",
       "      <td>s</td>\n",
       "      <td>b</td>\n",
       "      <td>APU3b</td>\n",
       "      <td>1</td>\n",
       "      <td>I</td>\n",
       "      <td>a</td>\n",
       "      <td>m</td>\n",
       "      <td>0.0</td>\n",
       "      <td>1</td>\n",
       "      <td>31.01.19 22:43:50</td>\n",
       "      <td>31.01.19 22:50:55</td>\n",
       "      <td>0</td>\n",
       "    </tr>\n",
       "    <tr>\n",
       "      <th>18912</th>\n",
       "      <td>NaN</td>\n",
       "      <td>1</td>\n",
       "      <td>A</td>\n",
       "      <td>407</td>\n",
       "      <td>662</td>\n",
       "      <td>210</td>\n",
       "      <td>169</td>\n",
       "      <td>s</td>\n",
       "      <td>b</td>\n",
       "      <td>APU3b</td>\n",
       "      <td>2</td>\n",
       "      <td>I</td>\n",
       "      <td>a</td>\n",
       "      <td>g</td>\n",
       "      <td>0.0</td>\n",
       "      <td>1</td>\n",
       "      <td>31.01.19 23:05:20</td>\n",
       "      <td>31.01.19 23:19:26</td>\n",
       "      <td>0</td>\n",
       "    </tr>\n",
       "  </tbody>\n",
       "</table>\n",
       "<p>18913 rows × 19 columns</p>\n",
       "</div>"
      ],
      "text/plain": [
       "       Product ID  Product characteristic 1 Quality Characteristic 8  \\\n",
       "0            26.0                         1                        A   \n",
       "1            50.0                         2                        A   \n",
       "2            72.0                         1                        A   \n",
       "3            72.0                         1                        A   \n",
       "4            74.0                         2                        A   \n",
       "...           ...                       ...                      ...   \n",
       "18908         NaN                         1                        A   \n",
       "18909         NaN                         1                        A   \n",
       "18910         NaN                         2                        A   \n",
       "18911         NaN                         1                        A   \n",
       "18912         NaN                         1                        A   \n",
       "\n",
       "       Quality Characteristic 1  Quality Characteristic 2  \\\n",
       "0                           412                       653   \n",
       "1                           408                       793   \n",
       "2                           407                       608   \n",
       "3                           407                       608   \n",
       "4                           408                       508   \n",
       "...                         ...                       ...   \n",
       "18908                       407                       628   \n",
       "18909                       407                       655   \n",
       "18910                       407                       657   \n",
       "18911                       407                       655   \n",
       "18912                       407                       662   \n",
       "\n",
       "       Quality Characteristic 3  Quality Characteristic 4  \\\n",
       "0                           248                       172   \n",
       "1                           221                       147   \n",
       "2                           210                       117   \n",
       "3                           248                       142   \n",
       "4                           205                       176   \n",
       "...                         ...                       ...   \n",
       "18908                       210                       122   \n",
       "18909                       229                       172   \n",
       "18910                       266                       122   \n",
       "18911                       229                       172   \n",
       "18912                       210                       169   \n",
       "\n",
       "      Quality Characteristic 5 Quality Characteristic 6  \\\n",
       "0                            s                        a   \n",
       "1                            s                        b   \n",
       "2                            s                        a   \n",
       "3                            s                        a   \n",
       "4                            s                        b   \n",
       "...                        ...                      ...   \n",
       "18908                        s                        b   \n",
       "18909                        s                        b   \n",
       "18910                        s                        b   \n",
       "18911                        s                        b   \n",
       "18912                        s                        b   \n",
       "\n",
       "      Process Characteristic 1   Process Characteristic 2   \\\n",
       "0                         APU3b                          1   \n",
       "1                         APU3b                          1   \n",
       "2                         APU3b                          4   \n",
       "3                         APU3b                          2   \n",
       "4                         APU3b                          3   \n",
       "...                         ...                        ...   \n",
       "18908                     APU3b                          1   \n",
       "18909                     APU3b                          1   \n",
       "18910                     APU3b                          1   \n",
       "18911                     APU3b                          1   \n",
       "18912                     APU3b                          2   \n",
       "\n",
       "      Rework characteristic 1 Rework characteristic 2 Repair characteristic 1  \\\n",
       "0                           I                       c                       m   \n",
       "1                           I                       b                       d   \n",
       "2                           O                       a                       b   \n",
       "3                           I                       c                       g   \n",
       "4                           I                       b                       d   \n",
       "...                       ...                     ...                     ...   \n",
       "18908                       I                       a                       m   \n",
       "18909                       I                       a                       m   \n",
       "18910                       I                       a                       b   \n",
       "18911                       I                       a                       m   \n",
       "18912                       I                       a                       g   \n",
       "\n",
       "       Rework Minutes  Quality rating       Capture Date        Rework Date  \\\n",
       "0                 0.0               1  01.10.18 06:34:54  01.10.18 06:35:24   \n",
       "1               285.0               1  01.10.18 07:23:12  01.10.18 08:13:42   \n",
       "2                 0.0               1  01.10.18 15:39:57  01.10.18 16:50:40   \n",
       "3                 0.5               1  01.10.18 07:25:09  01.10.18 07:32:53   \n",
       "4                25.0               1  01.10.18 07:51:32  01.10.18 09:41:50   \n",
       "...               ...             ...                ...                ...   \n",
       "18908             0.0               1  31.01.19 22:15:06  31.01.19 22:15:06   \n",
       "18909             0.0               1  31.01.19 22:16:17  31.01.19 22:22:51   \n",
       "18910             0.0               1  31.01.19 22:27:37  31.01.19 22:36:22   \n",
       "18911             0.0               1  31.01.19 22:43:50  31.01.19 22:50:55   \n",
       "18912             0.0               1  31.01.19 23:05:20  31.01.19 23:19:26   \n",
       "\n",
       "       Quality Characteristic 7  \n",
       "0                             0  \n",
       "1                             0  \n",
       "2                             0  \n",
       "3                             0  \n",
       "4                             0  \n",
       "...                         ...  \n",
       "18908                         0  \n",
       "18909                         0  \n",
       "18910                         0  \n",
       "18911                         0  \n",
       "18912                         0  \n",
       "\n",
       "[18913 rows x 19 columns]"
      ]
     },
     "execution_count": 3,
     "metadata": {},
     "output_type": "execute_result"
    }
   ],
   "source": [
    "A = 'Quality_data.csv'\n",
    "\n",
    "quality_data = pd.read_csv(A)\n",
    "quality_data"
   ]
  },
  {
   "cell_type": "code",
   "execution_count": 4,
   "metadata": {},
   "outputs": [
    {
     "data": {
      "text/plain": [
       "72.0"
      ]
     },
     "execution_count": 4,
     "metadata": {},
     "output_type": "execute_result"
    }
   ],
   "source": [
    "quality_data.iloc[2, 0]"
   ]
  },
  {
   "cell_type": "code",
   "execution_count": 5,
   "metadata": {},
   "outputs": [],
   "source": [
    "new_quality = quality_data\n",
    "\n",
    "for i in range(len(quality_data)-1, -1 , -1):\n",
    "    if np.array(quality_data.iloc[i, 13]) == 'b' or (np.array(quality_data.iloc[i,0]) > 0) == False:\n",
    "        new_quality = new_quality.drop(new_quality.index[i])"
   ]
  },
  {
   "cell_type": "code",
   "execution_count": null,
   "metadata": {},
   "outputs": [],
   "source": []
  },
  {
   "cell_type": "code",
   "execution_count": 18,
   "metadata": {},
   "outputs": [
    {
     "data": {
      "text/html": [
       "<div>\n",
       "<style scoped>\n",
       "    .dataframe tbody tr th:only-of-type {\n",
       "        vertical-align: middle;\n",
       "    }\n",
       "\n",
       "    .dataframe tbody tr th {\n",
       "        vertical-align: top;\n",
       "    }\n",
       "\n",
       "    .dataframe thead th {\n",
       "        text-align: right;\n",
       "    }\n",
       "</style>\n",
       "<table border=\"1\" class=\"dataframe\">\n",
       "  <thead>\n",
       "    <tr style=\"text-align: right;\">\n",
       "      <th></th>\n",
       "      <th>Start</th>\n",
       "      <th>End</th>\n",
       "      <th>Total duration</th>\n",
       "      <th>Alarm text</th>\n",
       "      <th>Alarm class</th>\n",
       "    </tr>\n",
       "  </thead>\n",
       "  <tbody>\n",
       "    <tr>\n",
       "      <th>0</th>\n",
       "      <td>01/10/2018 01:35</td>\n",
       "      <td>01/10/2018 06:00</td>\n",
       "      <td>15897</td>\n",
       "      <td>a</td>\n",
       "      <td>S</td>\n",
       "    </tr>\n",
       "    <tr>\n",
       "      <th>1</th>\n",
       "      <td>01/10/2018 03:04</td>\n",
       "      <td>01/10/2018 06:00</td>\n",
       "      <td>10538</td>\n",
       "      <td>b</td>\n",
       "      <td>E</td>\n",
       "    </tr>\n",
       "    <tr>\n",
       "      <th>2</th>\n",
       "      <td>01/10/2018 06:00</td>\n",
       "      <td>01/10/2018 06:00</td>\n",
       "      <td>14</td>\n",
       "      <td>a</td>\n",
       "      <td>S</td>\n",
       "    </tr>\n",
       "    <tr>\n",
       "      <th>3</th>\n",
       "      <td>01/10/2018 06:15</td>\n",
       "      <td>01/10/2018 06:16</td>\n",
       "      <td>71</td>\n",
       "      <td>a</td>\n",
       "      <td>S</td>\n",
       "    </tr>\n",
       "    <tr>\n",
       "      <th>4</th>\n",
       "      <td>01/10/2018 06:15</td>\n",
       "      <td>01/10/2018 06:16</td>\n",
       "      <td>66</td>\n",
       "      <td>c</td>\n",
       "      <td>O</td>\n",
       "    </tr>\n",
       "    <tr>\n",
       "      <th>...</th>\n",
       "      <td>...</td>\n",
       "      <td>...</td>\n",
       "      <td>...</td>\n",
       "      <td>...</td>\n",
       "      <td>...</td>\n",
       "    </tr>\n",
       "    <tr>\n",
       "      <th>15631</th>\n",
       "      <td>31/01/2019 11:30</td>\n",
       "      <td>31/01/2019 11:45</td>\n",
       "      <td>906</td>\n",
       "      <td>c</td>\n",
       "      <td>O</td>\n",
       "    </tr>\n",
       "    <tr>\n",
       "      <th>15632</th>\n",
       "      <td>31/01/2019 11:52</td>\n",
       "      <td>31/01/2019 11:53</td>\n",
       "      <td>28</td>\n",
       "      <td>a</td>\n",
       "      <td>S</td>\n",
       "    </tr>\n",
       "    <tr>\n",
       "      <th>15633</th>\n",
       "      <td>31/01/2019 11:52</td>\n",
       "      <td>31/01/2019 11:53</td>\n",
       "      <td>23</td>\n",
       "      <td>c</td>\n",
       "      <td>O</td>\n",
       "    </tr>\n",
       "    <tr>\n",
       "      <th>15634</th>\n",
       "      <td>31/01/2019 11:57</td>\n",
       "      <td>31/01/2019 11:58</td>\n",
       "      <td>33</td>\n",
       "      <td>a</td>\n",
       "      <td>S</td>\n",
       "    </tr>\n",
       "    <tr>\n",
       "      <th>15635</th>\n",
       "      <td>31/01/2019 11:57</td>\n",
       "      <td>31/01/2019 11:58</td>\n",
       "      <td>29</td>\n",
       "      <td>c</td>\n",
       "      <td>O</td>\n",
       "    </tr>\n",
       "  </tbody>\n",
       "</table>\n",
       "<p>15636 rows × 5 columns</p>\n",
       "</div>"
      ],
      "text/plain": [
       "                  Start               End  Total duration Alarm text  \\\n",
       "0      01/10/2018 01:35  01/10/2018 06:00           15897          a   \n",
       "1      01/10/2018 03:04  01/10/2018 06:00           10538          b   \n",
       "2      01/10/2018 06:00  01/10/2018 06:00              14          a   \n",
       "3      01/10/2018 06:15  01/10/2018 06:16              71          a   \n",
       "4      01/10/2018 06:15  01/10/2018 06:16              66          c   \n",
       "...                 ...               ...             ...        ...   \n",
       "15631  31/01/2019 11:30  31/01/2019 11:45             906          c   \n",
       "15632  31/01/2019 11:52  31/01/2019 11:53              28          a   \n",
       "15633  31/01/2019 11:52  31/01/2019 11:53              23          c   \n",
       "15634  31/01/2019 11:57  31/01/2019 11:58              33          a   \n",
       "15635  31/01/2019 11:57  31/01/2019 11:58              29          c   \n",
       "\n",
       "      Alarm class  \n",
       "0               S  \n",
       "1               E  \n",
       "2               S  \n",
       "3               S  \n",
       "4               O  \n",
       "...           ...  \n",
       "15631           O  \n",
       "15632           S  \n",
       "15633           O  \n",
       "15634           S  \n",
       "15635           O  \n",
       "\n",
       "[15636 rows x 5 columns]"
      ]
     },
     "execution_count": 18,
     "metadata": {},
     "output_type": "execute_result"
    }
   ],
   "source": [
    "B = 'Process_disturbances.csv'\n",
    "\n",
    "process_disturbances = pd.read_csv(B)\n",
    "process_disturbances"
   ]
  },
  {
   "cell_type": "code",
   "execution_count": 19,
   "metadata": {},
   "outputs": [],
   "source": [
    "C = 'Product_tracking_information.csv'\n",
    "\n",
    "#tracking points\n",
    "#Z3200 - entry into process\n",
    "#Z3299 - exit out of process\n",
    "\n",
    "track_info = pd.read_csv(C)\n",
    "#track_info"
   ]
  },
  {
   "cell_type": "code",
   "execution_count": 41,
   "metadata": {},
   "outputs": [
    {
     "data": {
      "text/plain": [
       "1    9875\n",
       "2    2508\n",
       "0       3\n",
       "Name: Quality rating, dtype: int64"
      ]
     },
     "execution_count": 41,
     "metadata": {},
     "output_type": "execute_result"
    }
   ],
   "source": [
    "new_quality['Quality rating'].value_counts()"
   ]
  },
  {
   "cell_type": "code",
   "execution_count": 42,
   "metadata": {},
   "outputs": [
    {
     "data": {
      "text/html": [
       "<div>\n",
       "<style scoped>\n",
       "    .dataframe tbody tr th:only-of-type {\n",
       "        vertical-align: middle;\n",
       "    }\n",
       "\n",
       "    .dataframe tbody tr th {\n",
       "        vertical-align: top;\n",
       "    }\n",
       "\n",
       "    .dataframe thead th {\n",
       "        text-align: right;\n",
       "    }\n",
       "</style>\n",
       "<table border=\"1\" class=\"dataframe\">\n",
       "  <thead>\n",
       "    <tr style=\"text-align: right;\">\n",
       "      <th></th>\n",
       "      <th>Product ID</th>\n",
       "      <th>Product characteristic 1</th>\n",
       "      <th>Quality Characteristic 8</th>\n",
       "      <th>Quality Characteristic 1</th>\n",
       "      <th>Quality Characteristic 2</th>\n",
       "      <th>Quality Characteristic 3</th>\n",
       "      <th>Quality Characteristic 4</th>\n",
       "      <th>Quality Characteristic 5</th>\n",
       "      <th>Quality Characteristic 6</th>\n",
       "      <th>Process Characteristic 1</th>\n",
       "      <th>Process Characteristic 2</th>\n",
       "      <th>Rework characteristic 1</th>\n",
       "      <th>Rework characteristic 2</th>\n",
       "      <th>Repair characteristic 1</th>\n",
       "      <th>Rework Minutes</th>\n",
       "      <th>Quality rating</th>\n",
       "      <th>Capture Date</th>\n",
       "      <th>Rework Date</th>\n",
       "      <th>Quality Characteristic 7</th>\n",
       "      <th>No.</th>\n",
       "    </tr>\n",
       "  </thead>\n",
       "  <tbody>\n",
       "    <tr>\n",
       "      <th>0</th>\n",
       "      <td>26.0</td>\n",
       "      <td>1</td>\n",
       "      <td>A</td>\n",
       "      <td>412</td>\n",
       "      <td>653</td>\n",
       "      <td>248</td>\n",
       "      <td>172</td>\n",
       "      <td>s</td>\n",
       "      <td>a</td>\n",
       "      <td>APU3b</td>\n",
       "      <td>1</td>\n",
       "      <td>I</td>\n",
       "      <td>c</td>\n",
       "      <td>m</td>\n",
       "      <td>0.0</td>\n",
       "      <td>1</td>\n",
       "      <td>01.10.18 06:34:54</td>\n",
       "      <td>01.10.18 06:35:24</td>\n",
       "      <td>0</td>\n",
       "      <td>0</td>\n",
       "    </tr>\n",
       "    <tr>\n",
       "      <th>1</th>\n",
       "      <td>50.0</td>\n",
       "      <td>2</td>\n",
       "      <td>A</td>\n",
       "      <td>408</td>\n",
       "      <td>793</td>\n",
       "      <td>221</td>\n",
       "      <td>147</td>\n",
       "      <td>s</td>\n",
       "      <td>b</td>\n",
       "      <td>APU3b</td>\n",
       "      <td>1</td>\n",
       "      <td>I</td>\n",
       "      <td>b</td>\n",
       "      <td>d</td>\n",
       "      <td>285.0</td>\n",
       "      <td>1</td>\n",
       "      <td>01.10.18 07:23:12</td>\n",
       "      <td>01.10.18 08:13:42</td>\n",
       "      <td>0</td>\n",
       "      <td>1</td>\n",
       "    </tr>\n",
       "    <tr>\n",
       "      <th>3</th>\n",
       "      <td>72.0</td>\n",
       "      <td>1</td>\n",
       "      <td>A</td>\n",
       "      <td>407</td>\n",
       "      <td>608</td>\n",
       "      <td>248</td>\n",
       "      <td>142</td>\n",
       "      <td>s</td>\n",
       "      <td>a</td>\n",
       "      <td>APU3b</td>\n",
       "      <td>2</td>\n",
       "      <td>I</td>\n",
       "      <td>c</td>\n",
       "      <td>g</td>\n",
       "      <td>0.5</td>\n",
       "      <td>1</td>\n",
       "      <td>01.10.18 07:25:09</td>\n",
       "      <td>01.10.18 07:32:53</td>\n",
       "      <td>0</td>\n",
       "      <td>2</td>\n",
       "    </tr>\n",
       "    <tr>\n",
       "      <th>4</th>\n",
       "      <td>74.0</td>\n",
       "      <td>2</td>\n",
       "      <td>A</td>\n",
       "      <td>408</td>\n",
       "      <td>508</td>\n",
       "      <td>205</td>\n",
       "      <td>176</td>\n",
       "      <td>s</td>\n",
       "      <td>b</td>\n",
       "      <td>APU3b</td>\n",
       "      <td>3</td>\n",
       "      <td>I</td>\n",
       "      <td>b</td>\n",
       "      <td>d</td>\n",
       "      <td>25.0</td>\n",
       "      <td>1</td>\n",
       "      <td>01.10.18 07:51:32</td>\n",
       "      <td>01.10.18 09:41:50</td>\n",
       "      <td>0</td>\n",
       "      <td>3</td>\n",
       "    </tr>\n",
       "    <tr>\n",
       "      <th>5</th>\n",
       "      <td>74.0</td>\n",
       "      <td>2</td>\n",
       "      <td>A</td>\n",
       "      <td>410</td>\n",
       "      <td>508</td>\n",
       "      <td>219</td>\n",
       "      <td>176</td>\n",
       "      <td>s</td>\n",
       "      <td>b</td>\n",
       "      <td>APU3b</td>\n",
       "      <td>3</td>\n",
       "      <td>I</td>\n",
       "      <td>b</td>\n",
       "      <td>d</td>\n",
       "      <td>0.0</td>\n",
       "      <td>1</td>\n",
       "      <td>01.10.18 07:50:14</td>\n",
       "      <td>01.10.18 09:42:16</td>\n",
       "      <td>0</td>\n",
       "      <td>4</td>\n",
       "    </tr>\n",
       "    <tr>\n",
       "      <th>...</th>\n",
       "      <td>...</td>\n",
       "      <td>...</td>\n",
       "      <td>...</td>\n",
       "      <td>...</td>\n",
       "      <td>...</td>\n",
       "      <td>...</td>\n",
       "      <td>...</td>\n",
       "      <td>...</td>\n",
       "      <td>...</td>\n",
       "      <td>...</td>\n",
       "      <td>...</td>\n",
       "      <td>...</td>\n",
       "      <td>...</td>\n",
       "      <td>...</td>\n",
       "      <td>...</td>\n",
       "      <td>...</td>\n",
       "      <td>...</td>\n",
       "      <td>...</td>\n",
       "      <td>...</td>\n",
       "      <td>...</td>\n",
       "    </tr>\n",
       "    <tr>\n",
       "      <th>18878</th>\n",
       "      <td>76600.0</td>\n",
       "      <td>1</td>\n",
       "      <td>A</td>\n",
       "      <td>407</td>\n",
       "      <td>655</td>\n",
       "      <td>282</td>\n",
       "      <td>172</td>\n",
       "      <td>s</td>\n",
       "      <td>b</td>\n",
       "      <td>APU3b</td>\n",
       "      <td>1</td>\n",
       "      <td>I</td>\n",
       "      <td>a</td>\n",
       "      <td>g</td>\n",
       "      <td>0.0</td>\n",
       "      <td>1</td>\n",
       "      <td>31.01.19 20:47:29</td>\n",
       "      <td>31.01.19 20:47:29</td>\n",
       "      <td>0</td>\n",
       "      <td>12381</td>\n",
       "    </tr>\n",
       "    <tr>\n",
       "      <th>18879</th>\n",
       "      <td>76606.0</td>\n",
       "      <td>2</td>\n",
       "      <td>A</td>\n",
       "      <td>406</td>\n",
       "      <td>509</td>\n",
       "      <td>216</td>\n",
       "      <td>103</td>\n",
       "      <td>s</td>\n",
       "      <td>a</td>\n",
       "      <td>APU3a</td>\n",
       "      <td>3</td>\n",
       "      <td>O</td>\n",
       "      <td>c</td>\n",
       "      <td>ad</td>\n",
       "      <td>60.0</td>\n",
       "      <td>2</td>\n",
       "      <td>31.01.19 22:02:52</td>\n",
       "      <td>01.02.19 01:02:00</td>\n",
       "      <td>0</td>\n",
       "      <td>12382</td>\n",
       "    </tr>\n",
       "    <tr>\n",
       "      <th>18880</th>\n",
       "      <td>76611.0</td>\n",
       "      <td>2</td>\n",
       "      <td>A</td>\n",
       "      <td>407</td>\n",
       "      <td>655</td>\n",
       "      <td>282</td>\n",
       "      <td>172</td>\n",
       "      <td>s</td>\n",
       "      <td>b</td>\n",
       "      <td>APU3b</td>\n",
       "      <td>1</td>\n",
       "      <td>I</td>\n",
       "      <td>a</td>\n",
       "      <td>g</td>\n",
       "      <td>0.0</td>\n",
       "      <td>1</td>\n",
       "      <td>31.01.19 19:23:26</td>\n",
       "      <td>31.01.19 19:23:26</td>\n",
       "      <td>0</td>\n",
       "      <td>12383</td>\n",
       "    </tr>\n",
       "    <tr>\n",
       "      <th>18881</th>\n",
       "      <td>76612.0</td>\n",
       "      <td>2</td>\n",
       "      <td>A</td>\n",
       "      <td>407</td>\n",
       "      <td>655</td>\n",
       "      <td>229</td>\n",
       "      <td>172</td>\n",
       "      <td>s</td>\n",
       "      <td>b</td>\n",
       "      <td>APU3b</td>\n",
       "      <td>1</td>\n",
       "      <td>I</td>\n",
       "      <td>c</td>\n",
       "      <td>m</td>\n",
       "      <td>0.4</td>\n",
       "      <td>1</td>\n",
       "      <td>31.01.19 20:23:27</td>\n",
       "      <td>31.01.19 20:32:07</td>\n",
       "      <td>0</td>\n",
       "      <td>12384</td>\n",
       "    </tr>\n",
       "    <tr>\n",
       "      <th>18882</th>\n",
       "      <td>76612.0</td>\n",
       "      <td>2</td>\n",
       "      <td>A</td>\n",
       "      <td>407</td>\n",
       "      <td>655</td>\n",
       "      <td>282</td>\n",
       "      <td>172</td>\n",
       "      <td>s</td>\n",
       "      <td>b</td>\n",
       "      <td>APU3b</td>\n",
       "      <td>1</td>\n",
       "      <td>I</td>\n",
       "      <td>c</td>\n",
       "      <td>m</td>\n",
       "      <td>0.4</td>\n",
       "      <td>1</td>\n",
       "      <td>31.01.19 20:23:27</td>\n",
       "      <td>31.01.19 20:32:32</td>\n",
       "      <td>0</td>\n",
       "      <td>12385</td>\n",
       "    </tr>\n",
       "  </tbody>\n",
       "</table>\n",
       "<p>12386 rows × 20 columns</p>\n",
       "</div>"
      ],
      "text/plain": [
       "       Product ID  Product characteristic 1 Quality Characteristic 8  \\\n",
       "0            26.0                         1                        A   \n",
       "1            50.0                         2                        A   \n",
       "3            72.0                         1                        A   \n",
       "4            74.0                         2                        A   \n",
       "5            74.0                         2                        A   \n",
       "...           ...                       ...                      ...   \n",
       "18878     76600.0                         1                        A   \n",
       "18879     76606.0                         2                        A   \n",
       "18880     76611.0                         2                        A   \n",
       "18881     76612.0                         2                        A   \n",
       "18882     76612.0                         2                        A   \n",
       "\n",
       "       Quality Characteristic 1  Quality Characteristic 2  \\\n",
       "0                           412                       653   \n",
       "1                           408                       793   \n",
       "3                           407                       608   \n",
       "4                           408                       508   \n",
       "5                           410                       508   \n",
       "...                         ...                       ...   \n",
       "18878                       407                       655   \n",
       "18879                       406                       509   \n",
       "18880                       407                       655   \n",
       "18881                       407                       655   \n",
       "18882                       407                       655   \n",
       "\n",
       "       Quality Characteristic 3  Quality Characteristic 4  \\\n",
       "0                           248                       172   \n",
       "1                           221                       147   \n",
       "3                           248                       142   \n",
       "4                           205                       176   \n",
       "5                           219                       176   \n",
       "...                         ...                       ...   \n",
       "18878                       282                       172   \n",
       "18879                       216                       103   \n",
       "18880                       282                       172   \n",
       "18881                       229                       172   \n",
       "18882                       282                       172   \n",
       "\n",
       "      Quality Characteristic 5 Quality Characteristic 6  \\\n",
       "0                            s                        a   \n",
       "1                            s                        b   \n",
       "3                            s                        a   \n",
       "4                            s                        b   \n",
       "5                            s                        b   \n",
       "...                        ...                      ...   \n",
       "18878                        s                        b   \n",
       "18879                        s                        a   \n",
       "18880                        s                        b   \n",
       "18881                        s                        b   \n",
       "18882                        s                        b   \n",
       "\n",
       "      Process Characteristic 1   Process Characteristic 2   \\\n",
       "0                         APU3b                          1   \n",
       "1                         APU3b                          1   \n",
       "3                         APU3b                          2   \n",
       "4                         APU3b                          3   \n",
       "5                         APU3b                          3   \n",
       "...                         ...                        ...   \n",
       "18878                     APU3b                          1   \n",
       "18879                     APU3a                          3   \n",
       "18880                     APU3b                          1   \n",
       "18881                     APU3b                          1   \n",
       "18882                     APU3b                          1   \n",
       "\n",
       "      Rework characteristic 1 Rework characteristic 2 Repair characteristic 1  \\\n",
       "0                           I                       c                       m   \n",
       "1                           I                       b                       d   \n",
       "3                           I                       c                       g   \n",
       "4                           I                       b                       d   \n",
       "5                           I                       b                       d   \n",
       "...                       ...                     ...                     ...   \n",
       "18878                       I                       a                       g   \n",
       "18879                       O                       c                      ad   \n",
       "18880                       I                       a                       g   \n",
       "18881                       I                       c                       m   \n",
       "18882                       I                       c                       m   \n",
       "\n",
       "       Rework Minutes  Quality rating       Capture Date        Rework Date  \\\n",
       "0                 0.0               1  01.10.18 06:34:54  01.10.18 06:35:24   \n",
       "1               285.0               1  01.10.18 07:23:12  01.10.18 08:13:42   \n",
       "3                 0.5               1  01.10.18 07:25:09  01.10.18 07:32:53   \n",
       "4                25.0               1  01.10.18 07:51:32  01.10.18 09:41:50   \n",
       "5                 0.0               1  01.10.18 07:50:14  01.10.18 09:42:16   \n",
       "...               ...             ...                ...                ...   \n",
       "18878             0.0               1  31.01.19 20:47:29  31.01.19 20:47:29   \n",
       "18879            60.0               2  31.01.19 22:02:52  01.02.19 01:02:00   \n",
       "18880             0.0               1  31.01.19 19:23:26  31.01.19 19:23:26   \n",
       "18881             0.4               1  31.01.19 20:23:27  31.01.19 20:32:07   \n",
       "18882             0.4               1  31.01.19 20:23:27  31.01.19 20:32:32   \n",
       "\n",
       "       Quality Characteristic 7    No.  \n",
       "0                             0      0  \n",
       "1                             0      1  \n",
       "3                             0      2  \n",
       "4                             0      3  \n",
       "5                             0      4  \n",
       "...                         ...    ...  \n",
       "18878                         0  12381  \n",
       "18879                         0  12382  \n",
       "18880                         0  12383  \n",
       "18881                         0  12384  \n",
       "18882                         0  12385  \n",
       "\n",
       "[12386 rows x 20 columns]"
      ]
     },
     "execution_count": 42,
     "metadata": {},
     "output_type": "execute_result"
    }
   ],
   "source": [
    "new_quality['No.'] = np.arange(len(new_quality))\n",
    "new_quality"
   ]
  },
  {
   "cell_type": "code",
   "execution_count": 43,
   "metadata": {},
   "outputs": [
    {
     "data": {
      "text/plain": [
       "<matplotlib.collections.PathCollection at 0x1a227adf50>"
      ]
     },
     "execution_count": 43,
     "metadata": {},
     "output_type": "execute_result"
    },
    {
     "data": {
      "image/png": "[encoded data removed]",
      "text/plain": [
       "<Figure size 432x288 with 1 Axes>"
      ]
     },
     "metadata": {
      "needs_background": "light"
     },
     "output_type": "display_data"
    }
   ],
   "source": [
    "plt.scatter(new_quality.iloc[:,19],new_quality.iloc[:,15], s=0.1)"
   ]
  },
  {
   "cell_type": "code",
   "execution_count": 47,
   "metadata": {},
   "outputs": [
    {
     "data": {
      "text/plain": [
       "Text(0.5, 1.0, 'Plot showing the probability of each Quality Rating against the cumulative \\n number of disturbances')"
      ]
     },
     "execution_count": 47,
     "metadata": {},
     "output_type": "execute_result"
    },
    {
     "data": {
      "image/png": "[encoded data removed]",
      "text/plain": [
       "<Figure size 432x288 with 1 Axes>"
      ]
     },
     "metadata": {
      "needs_background": "light"
     },
     "output_type": "display_data"
    }
   ],
   "source": [
    "QR0=plt.plot(numero_list_0, label=\"Quality Rating 0\")\n",
    "QR1=plt.plot(numero_list_1, label=\"Quality Rating 1\")\n",
    "QR2=plt.plot(numero_list_2, label=\"Quality Rating 2\")\n",
    "plt.legend()\n",
    "plt.xlabel(\"Number of disturbances\")\n",
    "plt.ylabel(\"Probability of a disturbance being \\n each Quality Rating\")\n",
    "plt.title(\"Plot showing the probability of each Quality Rating against the cumulative \\n number of disturbances\")"
   ]
  },
  {
   "cell_type": "code",
   "execution_count": 7,
   "metadata": {},
   "outputs": [],
   "source": [
    "numero_list1 = []\n",
    "numero1 = 0\n",
    "for i in range(23):\n",
    "    numero1 = new_quality[(i-1)*821:i*821]\n",
    "    prob = numero1['Quality rating'].value_counts('1')\n",
    "    numero_list1.append(prob)\n",
    "\n",
    "#numero_list1"
   ]
  },
  {
   "cell_type": "code",
   "execution_count": 49,
   "metadata": {},
   "outputs": [],
   "source": [
    "numero_list_1_1 = []\n",
    "numero_list_2_1 = []\n",
    "numero_list_0_1 = [0,0,0,0,0,0,0,0,0,0,0,0,0]\n",
    "for i in range(1,16,1):\n",
    "    unos1 = numero_list1[i][1]\n",
    "    numero_list_1_1.append(unos1)\n",
    "    dos1 = numero_list1[i][2]\n",
    "    numero_list_2_1.append(dos1)\n",
    "\n",
    "zeros10 = numero_list1[9][0]\n",
    "numero_list_0_1.insert(9,zeros10)\n",
    "zeros11 = numero_list1[12][0]\n",
    "numero_list_0_1.insert(12,zeros11)\n",
    "zeros12 = numero_list1[14][0]\n",
    "numero_list_0_1.insert(14,zeros12)"
   ]
  },
  {
   "cell_type": "code",
   "execution_count": 50,
   "metadata": {},
   "outputs": [
    {
     "data": {
      "text/plain": [
       "Text(0.5, 1.0, 'Plot showing the probability of each Quality Rating against a subset \\n of disturbances ordered chronologically')"
      ]
     },
     "execution_count": 50,
     "metadata": {},
     "output_type": "execute_result"
    },
    {
     "data": {
      "image/png": "[encoded data removed]",
      "text/plain": [
       "<Figure size 432x288 with 1 Axes>"
      ]
     },
     "metadata": {
      "needs_background": "light"
     },
     "output_type": "display_data"
    }
   ],
   "source": [
    "QR0_1=plt.plot(numero_list_0_1, label=\"Quality Rating 0\")\n",
    "QR1_1=plt.plot(numero_list_1_1, label=\"Quality Rating 1\")\n",
    "QR2_1=plt.plot(numero_list_2_1, label=\"Quality Rating 2\")\n",
    "\n",
    "plt.legend()\n",
    "plt.xlabel(\"Chronological subset of disturbances\")\n",
    "plt.ylabel(\"Probability of a disturbance being \\n each Quality Rating\")\n",
    "plt.title(\"Plot showing the probability of each Quality Rating against a subset \\n of disturbances ordered chronologically\")"
   ]
  },
  {
   "cell_type": "code",
   "execution_count": 104,
   "metadata": {},
   "outputs": [],
   "source": [
    "from pandas import Timestamp\n",
    "from collections import Counter"
   ]
  },
  {
   "cell_type": "code",
   "execution_count": 105,
   "metadata": {},
   "outputs": [],
   "source": [
    "#new_quality.head(112)\n",
    "day = new_quality['Capture Date']"
   ]
  },
  {
   "cell_type": "code",
   "execution_count": 348,
   "metadata": {
    "scrolled": true
   },
   "outputs": [
    {
     "data": {
      "text/plain": [
       "0       2018-10-01 06:34:54\n",
       "1       2018-10-01 07:23:12\n",
       "3       2018-10-01 07:25:09\n",
       "4       2018-10-01 07:51:32\n",
       "5       2018-10-01 07:50:14\n",
       "                ...        \n",
       "18878   2019-01-31 20:47:29\n",
       "18879   2019-01-31 22:02:52\n",
       "18880   2019-01-31 19:23:26\n",
       "18881   2019-01-31 20:23:27\n",
       "18882   2019-01-31 20:23:27\n",
       "Name: Capture Date, Length: 12386, dtype: datetime64[ns]"
      ]
     },
     "execution_count": 348,
     "metadata": {},
     "output_type": "execute_result"
    }
   ],
   "source": [
    "#new_quality['Capture Date'] = pd.to_datetime(new_quality['Capture Date'])\n",
    "#newnew_quality = new_quality.sort_values(by='Capture Date')\n",
    "\n",
    "day = pd.to_datetime(day,format = \"%d.%m.%y %H:%M:%S\")\n",
    "data = new_quality['Quality rating']\n",
    "data.index = day\n",
    "\n",
    "day"
   ]
  },
  {
   "cell_type": "code",
   "execution_count": 427,
   "metadata": {},
   "outputs": [
    {
     "data": {
      "text/plain": [
       "Capture Date\n",
       "2018-10-01    1.136364\n",
       "2018-10-02    1.182540\n",
       "2018-10-03    1.118012\n",
       "2018-10-04    1.164179\n",
       "2018-10-05    1.244898\n",
       "                ...   \n",
       "2019-01-27         NaN\n",
       "2019-01-28    1.191489\n",
       "2019-01-29    1.180124\n",
       "2019-01-30    1.205882\n",
       "2019-01-31    1.171429\n",
       "Freq: D, Name: Quality rating, Length: 123, dtype: float64"
      ]
     },
     "execution_count": 427,
     "metadata": {},
     "output_type": "execute_result"
    }
   ],
   "source": [
    "# Change the value in resample to d,m,H as you deem fit\n",
    "dailyaverage = data.resample('d').mean()\n",
    "#print(dailyaverage.to_string())\n",
    "dailyaverage"
   ]
  },
  {
   "cell_type": "code",
   "execution_count": 428,
   "metadata": {},
   "outputs": [
    {
     "data": {
      "text/plain": [
       "Capture Date\n",
       "2018-10-01    110\n",
       "2018-10-02    126\n",
       "2018-10-03    161\n",
       "2018-10-04    134\n",
       "2018-10-05    147\n",
       "             ... \n",
       "2019-01-27      0\n",
       "2019-01-28    141\n",
       "2019-01-29    161\n",
       "2019-01-30    136\n",
       "2019-01-31    140\n",
       "Freq: D, Name: Quality rating, Length: 123, dtype: int64"
      ]
     },
     "execution_count": 428,
     "metadata": {},
     "output_type": "execute_result"
    }
   ],
   "source": [
    "dailycounts = data.resample('d').count()\n",
    "dailycounts"
   ]
  },
  {
   "cell_type": "code",
   "execution_count": 434,
   "metadata": {},
   "outputs": [
    {
     "data": {
      "text/plain": [
       "Text(0.5, 1.0, 'Plot of the number of disturbances per day against the dates')"
      ]
     },
     "execution_count": 434,
     "metadata": {},
     "output_type": "execute_result"
    },
    {
     "data": {
      "image/png": "[encoded data removed]",
      "text/plain": [
       "<Figure size 432x288 with 1 Axes>"
      ]
     },
     "metadata": {
      "needs_background": "light"
     },
     "output_type": "display_data"
    }
   ],
   "source": [
    "dailyaverage[6] = np.NaN\n",
    "dailyaverage[83] = np.NaN\n",
    "plt.plot(dailycounts)\n",
    "plt.xticks(rotation=270)\n",
    "plt.xlabel(\"Dates\")\n",
    "plt.ylabel(\"Number of disturbances per day\")\n",
    "plt.title(\"Plot of the number of disturbances per day against the dates\")"
   ]
  },
  {
   "cell_type": "code",
   "execution_count": 431,
   "metadata": {},
   "outputs": [
    {
     "data": {
      "text/plain": [
       "Text(0.5, 1.0, 'Plot of the average daily quality rating against the number of disturbances per day with anomalies removed')"
      ]
     },
     "execution_count": 431,
     "metadata": {},
     "output_type": "execute_result"
    },
    {
     "data": {
      "image/png": "[encoded data removed]",
      "text/plain": [
       "<Figure size 432x288 with 1 Axes>"
      ]
     },
     "metadata": {
      "needs_background": "light"
     },
     "output_type": "display_data"
    }
   ],
   "source": [
    "dailycounts[6] = 0\n",
    "plt.scatter(dailycounts, dailyaverage, s=3)\n",
    "plt.xlabel(\"Number of disturbances per day\")\n",
    "plt.ylabel(\"Average quality rating per day\")\n",
    "plt.title(\"Plot of the average daily quality rating against the number of disturbances per day with anomalies removed\")"
   ]
  },
  {
   "cell_type": "code",
   "execution_count": 424,
   "metadata": {},
   "outputs": [
    {
     "data": {
      "text/plain": [
       "Capture Date\n",
       "0     3.950820\n",
       "1     5.016393\n",
       "2     3.418033\n",
       "3     4.737705\n",
       "4     2.598361\n",
       "5     0.113821\n",
       "6     4.024390\n",
       "7     5.008130\n",
       "8     3.731707\n",
       "9     3.300813\n",
       "10    4.804878\n",
       "11    3.674797\n",
       "12    4.739837\n",
       "13    4.861789\n",
       "14    4.943089\n",
       "15    5.252033\n",
       "16    2.934959\n",
       "17    5.073171\n",
       "18    5.569106\n",
       "19    3.780488\n",
       "20    5.772358\n",
       "21    4.788618\n",
       "22    4.845528\n",
       "23    3.894309\n",
       "Name: Quality rating, dtype: float64"
      ]
     },
     "execution_count": 424,
     "metadata": {},
     "output_type": "execute_result"
    }
   ],
   "source": [
    "data2 = dailyaverage.groupby(dailyaverage.index.hour).mean()\n",
    "#data3 = dailycounts.groupby(dailycounts.index.day_name()).mean()\n",
    "data3 = dailycounts.groupby(dailycounts.index.hour).mean()\n",
    "data3"
   ]
  },
  {
   "cell_type": "code",
   "execution_count": 423,
   "metadata": {},
   "outputs": [
    {
     "data": {
      "text/plain": [
       "Text(0.5, 1.0, 'Plot of the average quality rating against the hour of the day')"
      ]
     },
     "execution_count": 423,
     "metadata": {},
     "output_type": "execute_result"
    },
    {
     "data": {
      "image/png": "[encoded data removed]",
      "text/plain": [
       "<Figure size 432x288 with 1 Axes>"
      ]
     },
     "metadata": {
      "needs_background": "light"
     },
     "output_type": "display_data"
    }
   ],
   "source": [
    "plt.plot(data2)\n",
    "plt.xlabel(\"Hour of the day\")\n",
    "plt.ylabel(\"Average quality rating per hour\")\n",
    "plt.title(\"Plot of the average quality rating against the hour of the day\")"
   ]
  },
  {
   "cell_type": "code",
   "execution_count": 381,
   "metadata": {},
   "outputs": [
    {
     "data": {
      "text/plain": [
       "Monday       113.111111\n",
       "Tuesday      139.166667\n",
       "Wednesday    134.944444\n",
       "Thursday     144.555556\n",
       "Friday       139.529412\n",
       "Name: Quality rating, dtype: float64"
      ]
     },
     "execution_count": 381,
     "metadata": {},
     "output_type": "execute_result"
    }
   ],
   "source": [
    "days = ['Monday','Tuesday','Wednesday','Thursday','Friday','Saturday', 'Sunday']\n",
    "mapping = {day: i for i, day in enumerate(days)}\n",
    "key = data3.index.map(mapping)\n",
    "data3 = data3.iloc[key.argsort()]\n",
    "data4 = data3.iloc[0:5]\n",
    "data4"
   ]
  },
  {
   "cell_type": "code",
   "execution_count": 393,
   "metadata": {},
   "outputs": [
    {
     "data": {
      "text/plain": [
       "<matplotlib.axes._subplots.AxesSubplot at 0x1a27bdc510>"
      ]
     },
     "execution_count": 393,
     "metadata": {},
     "output_type": "execute_result"
    },
    {
     "data": {
      "image/png": "[encoded data removed]",
      "text/plain": [
       "<Figure size 432x288 with 1 Axes>"
      ]
     },
     "metadata": {
      "needs_background": "light"
     },
     "output_type": "display_data"
    }
   ],
   "source": [
    "data3.plot(kind='bar')"
   ]
  },
  {
   "cell_type": "code",
   "execution_count": 460,
   "metadata": {},
   "outputs": [
    {
     "data": {
      "image/png": "[encoded data removed]",
      "text/plain": [
       "<Figure size 432x288 with 4 Axes>"
      ]
     },
     "metadata": {
      "needs_background": "light"
     },
     "output_type": "display_data"
    }
   ],
   "source": [
    "fig, axs = plt.subplots(2, 2)\n",
    "axs[0, 0].plot(dailyaverage)\n",
    "axs[0, 0].set_title(\"Daily average\")\n",
    "axs[0, 0].set_xticklabels([])\n",
    "axs[0, 1].scatter(dailycounts, dailyaverage, s=3)\n",
    "axs[0, 1].set_title(\"Disturbances vs rating\")\n",
    "axs[1, 0].plot(data2)\n",
    "axs[1, 0].set_title(\"Hourly quality\")\n",
    "axs[1, 1].plot(data3)\n",
    "axs[1, 1].set_title(\"Hourly disturbance\")\n",
    "fig.tight_layout()"
   ]
  },
  {
   "cell_type": "code",
   "execution_count": 445,
   "metadata": {},
   "outputs": [
    {
     "data": {
      "image/png": "[encoded data removed]",
      "text/plain": [
       "<Figure size 432x288 with 2 Axes>"
      ]
     },
     "metadata": {
      "needs_background": "light"
     },
     "output_type": "display_data"
    }
   ],
   "source": [
    "fig, ax1 = plt.subplots()\n",
    "\n",
    "color = 'tab:red'\n",
    "ax1.set_xlabel('Hour of the day')\n",
    "ax1.set_ylabel('Average quality rating per hour', color=color)\n",
    "ax1.plot(data2, color=color)\n",
    "ax1.tick_params(axis='y', labelcolor=color)\n",
    "ax1.set_title('Dual y axis plot showing average hourly quality rating and \\n average number of disturbances')\n",
    "\n",
    "ax2 = ax1.twinx()  # instantiate a second axes that shares the same x-axis\n",
    "\n",
    "color = 'tab:blue'\n",
    "ax2.set_ylabel('Average number of disturbances per hour', color=color)  # we already handled the x-label with ax1\n",
    "ax2.plot(data3, color=color)\n",
    "ax2.tick_params(axis='y', labelcolor=color)\n",
    "\n",
    "fig.tight_layout()  # otherwise the right y-label is slightly clipped\n",
    "plt.show()"
   ]
  },
  {
   "cell_type": "code",
   "execution_count": null,
   "metadata": {},
   "outputs": [],
   "source": []
  }
 ],
 "metadata": {
  "kernelspec": {
   "display_name": "Python 3",
   "language": "python",
   "name": "python3"
  },
  "language_info": {
   "codemirror_mode": {
    "name": "ipython",
    "version": 3
   },
   "file_extension": ".py",
   "mimetype": "text/x-python",
   "name": "python",
   "nbconvert_exporter": "python",
   "pygments_lexer": "ipython3",
   "version": "3.7.7"
  }
 },
 "nbformat": 4,
 "nbformat_minor": 4
}
